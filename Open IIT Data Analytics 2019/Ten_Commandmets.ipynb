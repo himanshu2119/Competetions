{
 "cells": [
  {
   "cell_type": "markdown",
   "metadata": {
    "colab_type": "text",
    "id": "IA3KNcPIuFTd"
   },
   "source": [
    "Importing Required Libraries"
   ]
  },
  {
   "cell_type": "code",
   "execution_count": 1,
   "metadata": {
    "colab": {
     "base_uri": "https://localhost:8080/",
     "height": 428
    },
    "colab_type": "code",
    "id": "f6fBd_uwuGFH",
    "outputId": "e1790d9e-7774-456c-ad54-0e6f37ebb80f"
   },
   "outputs": [
    {
     "data": {
      "text/html": [
       "<div>\n",
       "<style scoped>\n",
       "    .dataframe tbody tr th:only-of-type {\n",
       "        vertical-align: middle;\n",
       "    }\n",
       "\n",
       "    .dataframe tbody tr th {\n",
       "        vertical-align: top;\n",
       "    }\n",
       "\n",
       "    .dataframe thead th {\n",
       "        text-align: right;\n",
       "    }\n",
       "</style>\n",
       "<table border=\"1\" class=\"dataframe\">\n",
       "  <thead>\n",
       "    <tr style=\"text-align: right;\">\n",
       "      <th></th>\n",
       "      <th>Customer</th>\n",
       "      <th>State</th>\n",
       "      <th>Customer Lifetime Value</th>\n",
       "      <th>Response</th>\n",
       "      <th>Coverage</th>\n",
       "      <th>Education</th>\n",
       "      <th>Effective To Date</th>\n",
       "      <th>EmploymentStatus</th>\n",
       "      <th>Gender</th>\n",
       "      <th>Income</th>\n",
       "      <th>...</th>\n",
       "      <th>Months Since Policy Inception</th>\n",
       "      <th>Number of Open Complaints</th>\n",
       "      <th>Number of Policies</th>\n",
       "      <th>Policy Type</th>\n",
       "      <th>Policy</th>\n",
       "      <th>Renew Offer Type</th>\n",
       "      <th>Sales Channel</th>\n",
       "      <th>Total Claim Amount</th>\n",
       "      <th>Vehicle Class</th>\n",
       "      <th>Vehicle Size</th>\n",
       "    </tr>\n",
       "  </thead>\n",
       "  <tbody>\n",
       "    <tr>\n",
       "      <th>0</th>\n",
       "      <td>BU79786</td>\n",
       "      <td>Washington</td>\n",
       "      <td>2763.519279</td>\n",
       "      <td>No</td>\n",
       "      <td>Basic</td>\n",
       "      <td>Bachelor</td>\n",
       "      <td>2/24/2011</td>\n",
       "      <td>Employed</td>\n",
       "      <td>F</td>\n",
       "      <td>56274</td>\n",
       "      <td>...</td>\n",
       "      <td>5</td>\n",
       "      <td>0</td>\n",
       "      <td>1</td>\n",
       "      <td>Corporate Auto</td>\n",
       "      <td>Corporate L3</td>\n",
       "      <td>Offer1</td>\n",
       "      <td>Agent</td>\n",
       "      <td>384.811147</td>\n",
       "      <td>Two-Door Car</td>\n",
       "      <td>Medsize</td>\n",
       "    </tr>\n",
       "    <tr>\n",
       "      <th>1</th>\n",
       "      <td>QZ44356</td>\n",
       "      <td>Arizona</td>\n",
       "      <td>6979.535903</td>\n",
       "      <td>No</td>\n",
       "      <td>Extended</td>\n",
       "      <td>Bachelor</td>\n",
       "      <td>1/31/2011</td>\n",
       "      <td>Unemployed</td>\n",
       "      <td>F</td>\n",
       "      <td>0</td>\n",
       "      <td>...</td>\n",
       "      <td>42</td>\n",
       "      <td>0</td>\n",
       "      <td>8</td>\n",
       "      <td>Personal Auto</td>\n",
       "      <td>Personal L3</td>\n",
       "      <td>Offer3</td>\n",
       "      <td>Agent</td>\n",
       "      <td>1131.464935</td>\n",
       "      <td>Four-Door Car</td>\n",
       "      <td>Medsize</td>\n",
       "    </tr>\n",
       "    <tr>\n",
       "      <th>2</th>\n",
       "      <td>AI49188</td>\n",
       "      <td>Nevada</td>\n",
       "      <td>12887.431650</td>\n",
       "      <td>No</td>\n",
       "      <td>Premium</td>\n",
       "      <td>Bachelor</td>\n",
       "      <td>2/19/2011</td>\n",
       "      <td>Employed</td>\n",
       "      <td>F</td>\n",
       "      <td>48767</td>\n",
       "      <td>...</td>\n",
       "      <td>38</td>\n",
       "      <td>0</td>\n",
       "      <td>2</td>\n",
       "      <td>Personal Auto</td>\n",
       "      <td>Personal L3</td>\n",
       "      <td>Offer1</td>\n",
       "      <td>Agent</td>\n",
       "      <td>566.472247</td>\n",
       "      <td>Two-Door Car</td>\n",
       "      <td>Medsize</td>\n",
       "    </tr>\n",
       "    <tr>\n",
       "      <th>3</th>\n",
       "      <td>WW63253</td>\n",
       "      <td>California</td>\n",
       "      <td>7645.861827</td>\n",
       "      <td>No</td>\n",
       "      <td>Basic</td>\n",
       "      <td>Bachelor</td>\n",
       "      <td>1/20/2011</td>\n",
       "      <td>Unemployed</td>\n",
       "      <td>M</td>\n",
       "      <td>0</td>\n",
       "      <td>...</td>\n",
       "      <td>65</td>\n",
       "      <td>0</td>\n",
       "      <td>7</td>\n",
       "      <td>Corporate Auto</td>\n",
       "      <td>Corporate L2</td>\n",
       "      <td>Offer1</td>\n",
       "      <td>Call Center</td>\n",
       "      <td>529.881344</td>\n",
       "      <td>SUV</td>\n",
       "      <td>Medsize</td>\n",
       "    </tr>\n",
       "    <tr>\n",
       "      <th>4</th>\n",
       "      <td>HB64268</td>\n",
       "      <td>Washington</td>\n",
       "      <td>2813.692575</td>\n",
       "      <td>No</td>\n",
       "      <td>Basic</td>\n",
       "      <td>Bachelor</td>\n",
       "      <td>2/3/2011</td>\n",
       "      <td>Employed</td>\n",
       "      <td>M</td>\n",
       "      <td>43836</td>\n",
       "      <td>...</td>\n",
       "      <td>44</td>\n",
       "      <td>0</td>\n",
       "      <td>1</td>\n",
       "      <td>Personal Auto</td>\n",
       "      <td>Personal L1</td>\n",
       "      <td>Offer1</td>\n",
       "      <td>Agent</td>\n",
       "      <td>138.130879</td>\n",
       "      <td>Four-Door Car</td>\n",
       "      <td>Medsize</td>\n",
       "    </tr>\n",
       "  </tbody>\n",
       "</table>\n",
       "<p>5 rows × 24 columns</p>\n",
       "</div>"
      ],
      "text/plain": [
       "  Customer       State  Customer Lifetime Value Response  Coverage Education  \\\n",
       "0  BU79786  Washington              2763.519279       No     Basic  Bachelor   \n",
       "1  QZ44356     Arizona              6979.535903       No  Extended  Bachelor   \n",
       "2  AI49188      Nevada             12887.431650       No   Premium  Bachelor   \n",
       "3  WW63253  California              7645.861827       No     Basic  Bachelor   \n",
       "4  HB64268  Washington              2813.692575       No     Basic  Bachelor   \n",
       "\n",
       "  Effective To Date EmploymentStatus Gender  Income  ...  \\\n",
       "0         2/24/2011         Employed      F   56274  ...   \n",
       "1         1/31/2011       Unemployed      F       0  ...   \n",
       "2         2/19/2011         Employed      F   48767  ...   \n",
       "3         1/20/2011       Unemployed      M       0  ...   \n",
       "4          2/3/2011         Employed      M   43836  ...   \n",
       "\n",
       "  Months Since Policy Inception Number of Open Complaints  Number of Policies  \\\n",
       "0                             5                         0                   1   \n",
       "1                            42                         0                   8   \n",
       "2                            38                         0                   2   \n",
       "3                            65                         0                   7   \n",
       "4                            44                         0                   1   \n",
       "\n",
       "      Policy Type        Policy  Renew Offer Type  Sales Channel  \\\n",
       "0  Corporate Auto  Corporate L3            Offer1          Agent   \n",
       "1   Personal Auto   Personal L3            Offer3          Agent   \n",
       "2   Personal Auto   Personal L3            Offer1          Agent   \n",
       "3  Corporate Auto  Corporate L2            Offer1    Call Center   \n",
       "4   Personal Auto   Personal L1            Offer1          Agent   \n",
       "\n",
       "  Total Claim Amount  Vehicle Class Vehicle Size  \n",
       "0         384.811147   Two-Door Car      Medsize  \n",
       "1        1131.464935  Four-Door Car      Medsize  \n",
       "2         566.472247   Two-Door Car      Medsize  \n",
       "3         529.881344            SUV      Medsize  \n",
       "4         138.130879  Four-Door Car      Medsize  \n",
       "\n",
       "[5 rows x 24 columns]"
      ]
     },
     "execution_count": 1,
     "metadata": {},
     "output_type": "execute_result"
    }
   ],
   "source": [
    "%matplotlib inline\n",
    "#Import the necessary libraries\n",
    "import pandas as pd\n",
    "import numpy as np\n",
    "import matplotlib.pyplot as plt\n",
    "import seaborn as sns\n",
    "import warnings\n",
    "warnings.filterwarnings('ignore')\n",
    "\n",
    "#loading the data\n",
    "df = pd.read_csv('Copy of Insurance_Marketing-Customer-Value-Analysis.csv')\n",
    "dataset = df\n",
    "df.head()"
   ]
  },
  {
   "cell_type": "markdown",
   "metadata": {
    "colab_type": "text",
    "id": "yoK4wLUFmuJK"
   },
   "source": [
    "**DATA PREPROCESSING**\n",
    "\n",
    "1-Firstly we will handle missing values in the dataset"
   ]
  },
  {
   "cell_type": "code",
   "execution_count": 2,
   "metadata": {
    "colab": {
     "base_uri": "https://localhost:8080/",
     "height": 442
    },
    "colab_type": "code",
    "id": "iIO0QdRbmqis",
    "outputId": "56df5e7c-c909-433c-d330-c965ec3a64b7"
   },
   "outputs": [
    {
     "data": {
      "text/plain": [
       "Customer                         0\n",
       "State                            0\n",
       "Customer Lifetime Value          0\n",
       "Response                         0\n",
       "Coverage                         0\n",
       "Education                        0\n",
       "Effective To Date                0\n",
       "EmploymentStatus                 0\n",
       "Gender                           0\n",
       "Income                           0\n",
       "Location Code                    0\n",
       "Marital Status                   0\n",
       "Monthly Premium Auto             0\n",
       "Months Since Last Claim          0\n",
       "Months Since Policy Inception    0\n",
       "Number of Open Complaints        0\n",
       "Number of Policies               0\n",
       "Policy Type                      0\n",
       "Policy                           0\n",
       "Renew Offer Type                 0\n",
       "Sales Channel                    0\n",
       "Total Claim Amount               0\n",
       "Vehicle Class                    0\n",
       "Vehicle Size                     0\n",
       "dtype: int64"
      ]
     },
     "execution_count": 2,
     "metadata": {},
     "output_type": "execute_result"
    }
   ],
   "source": [
    "df.isnull().sum()"
   ]
  },
  {
   "cell_type": "markdown",
   "metadata": {
    "colab_type": "text",
    "id": "eHUYYs6cnbqr"
   },
   "source": [
    "No missing values are found\n",
    "\n",
    "Let's carry on with preprocessing\n",
    "\n",
    "2 - Basic data manipulation"
   ]
  },
  {
   "cell_type": "code",
   "execution_count": 3,
   "metadata": {
    "colab": {
     "base_uri": "https://localhost:8080/",
     "height": 317
    },
    "colab_type": "code",
    "id": "R3cw0SpInZeJ",
    "outputId": "b65f43e9-d435-429f-c289-0052383847c0"
   },
   "outputs": [
    {
     "data": {
      "text/html": [
       "<div>\n",
       "<style scoped>\n",
       "    .dataframe tbody tr th:only-of-type {\n",
       "        vertical-align: middle;\n",
       "    }\n",
       "\n",
       "    .dataframe tbody tr th {\n",
       "        vertical-align: top;\n",
       "    }\n",
       "\n",
       "    .dataframe thead th {\n",
       "        text-align: right;\n",
       "    }\n",
       "</style>\n",
       "<table border=\"1\" class=\"dataframe\">\n",
       "  <thead>\n",
       "    <tr style=\"text-align: right;\">\n",
       "      <th></th>\n",
       "      <th>count</th>\n",
       "      <th>mean</th>\n",
       "      <th>std</th>\n",
       "      <th>min</th>\n",
       "      <th>25%</th>\n",
       "      <th>50%</th>\n",
       "      <th>75%</th>\n",
       "      <th>max</th>\n",
       "    </tr>\n",
       "  </thead>\n",
       "  <tbody>\n",
       "    <tr>\n",
       "      <th>CLV</th>\n",
       "      <td>9134.0</td>\n",
       "      <td>8004.940475</td>\n",
       "      <td>6870.967608</td>\n",
       "      <td>1898.007675</td>\n",
       "      <td>3994.251794</td>\n",
       "      <td>5780.182197</td>\n",
       "      <td>8962.167041</td>\n",
       "      <td>83325.381190</td>\n",
       "    </tr>\n",
       "    <tr>\n",
       "      <th>Income</th>\n",
       "      <td>9134.0</td>\n",
       "      <td>37657.380009</td>\n",
       "      <td>30379.904734</td>\n",
       "      <td>0.000000</td>\n",
       "      <td>0.000000</td>\n",
       "      <td>33889.500000</td>\n",
       "      <td>62320.000000</td>\n",
       "      <td>99981.000000</td>\n",
       "    </tr>\n",
       "    <tr>\n",
       "      <th>MonthlyPremiumAuto</th>\n",
       "      <td>9134.0</td>\n",
       "      <td>93.219291</td>\n",
       "      <td>34.407967</td>\n",
       "      <td>61.000000</td>\n",
       "      <td>68.000000</td>\n",
       "      <td>83.000000</td>\n",
       "      <td>109.000000</td>\n",
       "      <td>298.000000</td>\n",
       "    </tr>\n",
       "    <tr>\n",
       "      <th>MonthsSinceLastClaim</th>\n",
       "      <td>9134.0</td>\n",
       "      <td>15.097000</td>\n",
       "      <td>10.073257</td>\n",
       "      <td>0.000000</td>\n",
       "      <td>6.000000</td>\n",
       "      <td>14.000000</td>\n",
       "      <td>23.000000</td>\n",
       "      <td>35.000000</td>\n",
       "    </tr>\n",
       "    <tr>\n",
       "      <th>MonthsSincePolicyInception</th>\n",
       "      <td>9134.0</td>\n",
       "      <td>48.064594</td>\n",
       "      <td>27.905991</td>\n",
       "      <td>0.000000</td>\n",
       "      <td>24.000000</td>\n",
       "      <td>48.000000</td>\n",
       "      <td>71.000000</td>\n",
       "      <td>99.000000</td>\n",
       "    </tr>\n",
       "    <tr>\n",
       "      <th>NumberOfOpenComplaints</th>\n",
       "      <td>9134.0</td>\n",
       "      <td>0.384388</td>\n",
       "      <td>0.910384</td>\n",
       "      <td>0.000000</td>\n",
       "      <td>0.000000</td>\n",
       "      <td>0.000000</td>\n",
       "      <td>0.000000</td>\n",
       "      <td>5.000000</td>\n",
       "    </tr>\n",
       "    <tr>\n",
       "      <th>NumberofPolicies</th>\n",
       "      <td>9134.0</td>\n",
       "      <td>2.966170</td>\n",
       "      <td>2.390182</td>\n",
       "      <td>1.000000</td>\n",
       "      <td>1.000000</td>\n",
       "      <td>2.000000</td>\n",
       "      <td>4.000000</td>\n",
       "      <td>9.000000</td>\n",
       "    </tr>\n",
       "    <tr>\n",
       "      <th>TotalClaimAmount</th>\n",
       "      <td>9134.0</td>\n",
       "      <td>434.088794</td>\n",
       "      <td>290.500092</td>\n",
       "      <td>0.099007</td>\n",
       "      <td>272.258244</td>\n",
       "      <td>383.945434</td>\n",
       "      <td>547.514839</td>\n",
       "      <td>2893.239678</td>\n",
       "    </tr>\n",
       "  </tbody>\n",
       "</table>\n",
       "</div>"
      ],
      "text/plain": [
       "                             count          mean           std          min  \\\n",
       "CLV                         9134.0   8004.940475   6870.967608  1898.007675   \n",
       "Income                      9134.0  37657.380009  30379.904734     0.000000   \n",
       "MonthlyPremiumAuto          9134.0     93.219291     34.407967    61.000000   \n",
       "MonthsSinceLastClaim        9134.0     15.097000     10.073257     0.000000   \n",
       "MonthsSincePolicyInception  9134.0     48.064594     27.905991     0.000000   \n",
       "NumberOfOpenComplaints      9134.0      0.384388      0.910384     0.000000   \n",
       "NumberofPolicies            9134.0      2.966170      2.390182     1.000000   \n",
       "TotalClaimAmount            9134.0    434.088794    290.500092     0.099007   \n",
       "\n",
       "                                    25%           50%           75%  \\\n",
       "CLV                         3994.251794   5780.182197   8962.167041   \n",
       "Income                         0.000000  33889.500000  62320.000000   \n",
       "MonthlyPremiumAuto            68.000000     83.000000    109.000000   \n",
       "MonthsSinceLastClaim           6.000000     14.000000     23.000000   \n",
       "MonthsSincePolicyInception    24.000000     48.000000     71.000000   \n",
       "NumberOfOpenComplaints         0.000000      0.000000      0.000000   \n",
       "NumberofPolicies               1.000000      2.000000      4.000000   \n",
       "TotalClaimAmount             272.258244    383.945434    547.514839   \n",
       "\n",
       "                                     max  \n",
       "CLV                         83325.381190  \n",
       "Income                      99981.000000  \n",
       "MonthlyPremiumAuto            298.000000  \n",
       "MonthsSinceLastClaim           35.000000  \n",
       "MonthsSincePolicyInception     99.000000  \n",
       "NumberOfOpenComplaints          5.000000  \n",
       "NumberofPolicies                9.000000  \n",
       "TotalClaimAmount             2893.239678  "
      ]
     },
     "execution_count": 3,
     "metadata": {},
     "output_type": "execute_result"
    }
   ],
   "source": [
    "#Renaming the columnns (removing space delimitation)\n",
    "df = df.rename(columns = {'Customer Lifetime Value':'CLV', 'EmploymentStatus': 'EmploymentStatus', 'Location Code':'LocationCode', 'Marital Status': 'MaritalStatus','Monthly Premium Auto':'MonthlyPremiumAuto', 'Months Since Last Claim':'MonthsSinceLastClaim','Months Since Policy Inception':'MonthsSincePolicyInception','Number of Open Complaints':'NumberOfOpenComplaints','Number of Policies':'NumberofPolicies','Policy Type':'PolicyType','Policy':'PolicySubType','Renew Offer Type':'RenewOfferType','Sales Channel':'SalesChannel','Total Claim Amount':'TotalClaimAmount','Vehicle Class':'VehicleClass','Vehicle Size':'VehicleSize'})\n",
    "dataset = dataset.rename(columns = {'Customer Lifetime Value':'CLV', 'EmploymentStatus': 'EmploymentStatus', 'Location Code':'LocationCode', 'Marital Status': 'MaritalStatus','Monthly Premium Auto':'MonthlyPremiumAuto', 'Months Since Last Claim':'MonthsSinceLastClaim','Months Since Policy Inception':'MonthsSincePolicyInception','Number of Open Complaints':'NumberOfOpenComplaints','Number of Policies':'NumberofPolicies','Policy Type':'PolicyType','Policy':'PolicySubType','Renew Offer Type':'RenewOfferType','Sales Channel':'SalesChannel','Total Claim Amount':'TotalClaimAmount','Vehicle Class':'VehicleClass','Vehicle Size':'VehicleSize'})\n",
    "\n",
    "list(df.columns.values)\n",
    "\n",
    "del df['Customer']\n",
    "del df['Effective To Date']\n",
    "del df['VehicleSize']\n",
    "\n",
    "df.describe().transpose()"
   ]
  },
  {
   "cell_type": "markdown",
   "metadata": {
    "colab_type": "text",
    "id": "oMf-meaGpVQc"
   },
   "source": [
    "3- Anamoly Detection and removal"
   ]
  },
  {
   "cell_type": "code",
   "execution_count": 4,
   "metadata": {},
   "outputs": [
    {
     "data": {
      "text/html": [
       "<div>\n",
       "<style scoped>\n",
       "    .dataframe tbody tr th:only-of-type {\n",
       "        vertical-align: middle;\n",
       "    }\n",
       "\n",
       "    .dataframe tbody tr th {\n",
       "        vertical-align: top;\n",
       "    }\n",
       "\n",
       "    .dataframe thead th {\n",
       "        text-align: right;\n",
       "    }\n",
       "</style>\n",
       "<table border=\"1\" class=\"dataframe\">\n",
       "  <thead>\n",
       "    <tr style=\"text-align: right;\">\n",
       "      <th></th>\n",
       "      <th>State</th>\n",
       "      <th>CLV</th>\n",
       "      <th>Response</th>\n",
       "      <th>Coverage</th>\n",
       "      <th>Education</th>\n",
       "      <th>EmploymentStatus</th>\n",
       "      <th>Gender</th>\n",
       "      <th>Income</th>\n",
       "      <th>LocationCode</th>\n",
       "      <th>MaritalStatus</th>\n",
       "      <th>...</th>\n",
       "      <th>MonthsSinceLastClaim</th>\n",
       "      <th>MonthsSincePolicyInception</th>\n",
       "      <th>NumberOfOpenComplaints</th>\n",
       "      <th>NumberofPolicies</th>\n",
       "      <th>PolicyType</th>\n",
       "      <th>PolicySubType</th>\n",
       "      <th>RenewOfferType</th>\n",
       "      <th>SalesChannel</th>\n",
       "      <th>TotalClaimAmount</th>\n",
       "      <th>VehicleClass</th>\n",
       "    </tr>\n",
       "  </thead>\n",
       "  <tbody>\n",
       "    <tr>\n",
       "      <th>0</th>\n",
       "      <td>Washington</td>\n",
       "      <td>2763.519279</td>\n",
       "      <td>No</td>\n",
       "      <td>Basic</td>\n",
       "      <td>Bachelor</td>\n",
       "      <td>Employed</td>\n",
       "      <td>F</td>\n",
       "      <td>56274</td>\n",
       "      <td>Suburban</td>\n",
       "      <td>Married</td>\n",
       "      <td>...</td>\n",
       "      <td>32</td>\n",
       "      <td>5</td>\n",
       "      <td>0</td>\n",
       "      <td>1</td>\n",
       "      <td>Corporate Auto</td>\n",
       "      <td>Corporate L3</td>\n",
       "      <td>Offer1</td>\n",
       "      <td>Agent</td>\n",
       "      <td>384.811147</td>\n",
       "      <td>Two-Door Car</td>\n",
       "    </tr>\n",
       "    <tr>\n",
       "      <th>1</th>\n",
       "      <td>Arizona</td>\n",
       "      <td>6979.535903</td>\n",
       "      <td>No</td>\n",
       "      <td>Extended</td>\n",
       "      <td>Bachelor</td>\n",
       "      <td>Unemployed</td>\n",
       "      <td>F</td>\n",
       "      <td>0</td>\n",
       "      <td>Suburban</td>\n",
       "      <td>Single</td>\n",
       "      <td>...</td>\n",
       "      <td>13</td>\n",
       "      <td>42</td>\n",
       "      <td>0</td>\n",
       "      <td>8</td>\n",
       "      <td>Personal Auto</td>\n",
       "      <td>Personal L3</td>\n",
       "      <td>Offer3</td>\n",
       "      <td>Agent</td>\n",
       "      <td>1131.464935</td>\n",
       "      <td>Four-Door Car</td>\n",
       "    </tr>\n",
       "    <tr>\n",
       "      <th>2</th>\n",
       "      <td>Nevada</td>\n",
       "      <td>12887.431650</td>\n",
       "      <td>No</td>\n",
       "      <td>Premium</td>\n",
       "      <td>Bachelor</td>\n",
       "      <td>Employed</td>\n",
       "      <td>F</td>\n",
       "      <td>48767</td>\n",
       "      <td>Suburban</td>\n",
       "      <td>Married</td>\n",
       "      <td>...</td>\n",
       "      <td>18</td>\n",
       "      <td>38</td>\n",
       "      <td>0</td>\n",
       "      <td>2</td>\n",
       "      <td>Personal Auto</td>\n",
       "      <td>Personal L3</td>\n",
       "      <td>Offer1</td>\n",
       "      <td>Agent</td>\n",
       "      <td>566.472247</td>\n",
       "      <td>Two-Door Car</td>\n",
       "    </tr>\n",
       "    <tr>\n",
       "      <th>3</th>\n",
       "      <td>California</td>\n",
       "      <td>7645.861827</td>\n",
       "      <td>No</td>\n",
       "      <td>Basic</td>\n",
       "      <td>Bachelor</td>\n",
       "      <td>Unemployed</td>\n",
       "      <td>M</td>\n",
       "      <td>0</td>\n",
       "      <td>Suburban</td>\n",
       "      <td>Married</td>\n",
       "      <td>...</td>\n",
       "      <td>18</td>\n",
       "      <td>65</td>\n",
       "      <td>0</td>\n",
       "      <td>7</td>\n",
       "      <td>Corporate Auto</td>\n",
       "      <td>Corporate L2</td>\n",
       "      <td>Offer1</td>\n",
       "      <td>Call Center</td>\n",
       "      <td>529.881344</td>\n",
       "      <td>SUV</td>\n",
       "    </tr>\n",
       "    <tr>\n",
       "      <th>4</th>\n",
       "      <td>Washington</td>\n",
       "      <td>2813.692575</td>\n",
       "      <td>No</td>\n",
       "      <td>Basic</td>\n",
       "      <td>Bachelor</td>\n",
       "      <td>Employed</td>\n",
       "      <td>M</td>\n",
       "      <td>43836</td>\n",
       "      <td>Rural</td>\n",
       "      <td>Single</td>\n",
       "      <td>...</td>\n",
       "      <td>12</td>\n",
       "      <td>44</td>\n",
       "      <td>0</td>\n",
       "      <td>1</td>\n",
       "      <td>Personal Auto</td>\n",
       "      <td>Personal L1</td>\n",
       "      <td>Offer1</td>\n",
       "      <td>Agent</td>\n",
       "      <td>138.130879</td>\n",
       "      <td>Four-Door Car</td>\n",
       "    </tr>\n",
       "  </tbody>\n",
       "</table>\n",
       "<p>5 rows × 21 columns</p>\n",
       "</div>"
      ],
      "text/plain": [
       "        State           CLV Response  Coverage Education EmploymentStatus  \\\n",
       "0  Washington   2763.519279       No     Basic  Bachelor         Employed   \n",
       "1     Arizona   6979.535903       No  Extended  Bachelor       Unemployed   \n",
       "2      Nevada  12887.431650       No   Premium  Bachelor         Employed   \n",
       "3  California   7645.861827       No     Basic  Bachelor       Unemployed   \n",
       "4  Washington   2813.692575       No     Basic  Bachelor         Employed   \n",
       "\n",
       "  Gender  Income LocationCode MaritalStatus  ...  MonthsSinceLastClaim  \\\n",
       "0      F   56274     Suburban       Married  ...                    32   \n",
       "1      F       0     Suburban        Single  ...                    13   \n",
       "2      F   48767     Suburban       Married  ...                    18   \n",
       "3      M       0     Suburban       Married  ...                    18   \n",
       "4      M   43836        Rural        Single  ...                    12   \n",
       "\n",
       "   MonthsSincePolicyInception  NumberOfOpenComplaints  NumberofPolicies  \\\n",
       "0                           5                       0                 1   \n",
       "1                          42                       0                 8   \n",
       "2                          38                       0                 2   \n",
       "3                          65                       0                 7   \n",
       "4                          44                       0                 1   \n",
       "\n",
       "       PolicyType PolicySubType RenewOfferType SalesChannel TotalClaimAmount  \\\n",
       "0  Corporate Auto  Corporate L3         Offer1        Agent       384.811147   \n",
       "1   Personal Auto   Personal L3         Offer3        Agent      1131.464935   \n",
       "2   Personal Auto   Personal L3         Offer1        Agent       566.472247   \n",
       "3  Corporate Auto  Corporate L2         Offer1  Call Center       529.881344   \n",
       "4   Personal Auto   Personal L1         Offer1        Agent       138.130879   \n",
       "\n",
       "    VehicleClass  \n",
       "0   Two-Door Car  \n",
       "1  Four-Door Car  \n",
       "2   Two-Door Car  \n",
       "3            SUV  \n",
       "4  Four-Door Car  \n",
       "\n",
       "[5 rows x 21 columns]"
      ]
     },
     "execution_count": 4,
     "metadata": {},
     "output_type": "execute_result"
    }
   ],
   "source": [
    "df.head()"
   ]
  },
  {
   "cell_type": "code",
   "execution_count": 5,
   "metadata": {
    "colab": {
     "base_uri": "https://localhost:8080/",
     "height": 343
    },
    "colab_type": "code",
    "id": "H3oylED_o3OG",
    "outputId": "ef2f5be3-0e60-4ef9-95ab-8d6d2b7c5c36"
   },
   "outputs": [
    {
     "name": "stdout",
     "output_type": "stream",
     "text": [
      "Upper Treshold of CLV:  16414.039911750002\n",
      "Upper threshold of income: 155800.0\n"
     ]
    },
    {
     "data": {
      "text/html": [
       "<div>\n",
       "<style scoped>\n",
       "    .dataframe tbody tr th:only-of-type {\n",
       "        vertical-align: middle;\n",
       "    }\n",
       "\n",
       "    .dataframe tbody tr th {\n",
       "        vertical-align: top;\n",
       "    }\n",
       "\n",
       "    .dataframe thead th {\n",
       "        text-align: right;\n",
       "    }\n",
       "</style>\n",
       "<table border=\"1\" class=\"dataframe\">\n",
       "  <thead>\n",
       "    <tr style=\"text-align: right;\">\n",
       "      <th></th>\n",
       "      <th>State</th>\n",
       "      <th>CLV</th>\n",
       "      <th>Response</th>\n",
       "      <th>Coverage</th>\n",
       "      <th>Education</th>\n",
       "      <th>EmploymentStatus</th>\n",
       "      <th>Gender</th>\n",
       "      <th>Income</th>\n",
       "      <th>LocationCode</th>\n",
       "      <th>MaritalStatus</th>\n",
       "      <th>...</th>\n",
       "      <th>MonthsSinceLastClaim</th>\n",
       "      <th>MonthsSincePolicyInception</th>\n",
       "      <th>NumberOfOpenComplaints</th>\n",
       "      <th>NumberofPolicies</th>\n",
       "      <th>PolicyType</th>\n",
       "      <th>PolicySubType</th>\n",
       "      <th>RenewOfferType</th>\n",
       "      <th>SalesChannel</th>\n",
       "      <th>TotalClaimAmount</th>\n",
       "      <th>VehicleClass</th>\n",
       "    </tr>\n",
       "  </thead>\n",
       "  <tbody>\n",
       "    <tr>\n",
       "      <th>1</th>\n",
       "      <td>Arizona</td>\n",
       "      <td>6979.535903</td>\n",
       "      <td>No</td>\n",
       "      <td>Extended</td>\n",
       "      <td>Bachelor</td>\n",
       "      <td>Unemployed</td>\n",
       "      <td>F</td>\n",
       "      <td>0</td>\n",
       "      <td>Suburban</td>\n",
       "      <td>Single</td>\n",
       "      <td>...</td>\n",
       "      <td>13</td>\n",
       "      <td>42</td>\n",
       "      <td>0</td>\n",
       "      <td>8</td>\n",
       "      <td>Personal Auto</td>\n",
       "      <td>Personal L3</td>\n",
       "      <td>Offer3</td>\n",
       "      <td>Agent</td>\n",
       "      <td>1131.464935</td>\n",
       "      <td>Four-Door Car</td>\n",
       "    </tr>\n",
       "    <tr>\n",
       "      <th>2</th>\n",
       "      <td>Nevada</td>\n",
       "      <td>12887.431650</td>\n",
       "      <td>No</td>\n",
       "      <td>Premium</td>\n",
       "      <td>Bachelor</td>\n",
       "      <td>Employed</td>\n",
       "      <td>F</td>\n",
       "      <td>48767</td>\n",
       "      <td>Suburban</td>\n",
       "      <td>Married</td>\n",
       "      <td>...</td>\n",
       "      <td>18</td>\n",
       "      <td>38</td>\n",
       "      <td>0</td>\n",
       "      <td>2</td>\n",
       "      <td>Personal Auto</td>\n",
       "      <td>Personal L3</td>\n",
       "      <td>Offer1</td>\n",
       "      <td>Agent</td>\n",
       "      <td>566.472247</td>\n",
       "      <td>Two-Door Car</td>\n",
       "    </tr>\n",
       "    <tr>\n",
       "      <th>3</th>\n",
       "      <td>California</td>\n",
       "      <td>7645.861827</td>\n",
       "      <td>No</td>\n",
       "      <td>Basic</td>\n",
       "      <td>Bachelor</td>\n",
       "      <td>Unemployed</td>\n",
       "      <td>M</td>\n",
       "      <td>0</td>\n",
       "      <td>Suburban</td>\n",
       "      <td>Married</td>\n",
       "      <td>...</td>\n",
       "      <td>18</td>\n",
       "      <td>65</td>\n",
       "      <td>0</td>\n",
       "      <td>7</td>\n",
       "      <td>Corporate Auto</td>\n",
       "      <td>Corporate L2</td>\n",
       "      <td>Offer1</td>\n",
       "      <td>Call Center</td>\n",
       "      <td>529.881344</td>\n",
       "      <td>SUV</td>\n",
       "    </tr>\n",
       "    <tr>\n",
       "      <th>4</th>\n",
       "      <td>Washington</td>\n",
       "      <td>2813.692575</td>\n",
       "      <td>No</td>\n",
       "      <td>Basic</td>\n",
       "      <td>Bachelor</td>\n",
       "      <td>Employed</td>\n",
       "      <td>M</td>\n",
       "      <td>43836</td>\n",
       "      <td>Rural</td>\n",
       "      <td>Single</td>\n",
       "      <td>...</td>\n",
       "      <td>12</td>\n",
       "      <td>44</td>\n",
       "      <td>0</td>\n",
       "      <td>1</td>\n",
       "      <td>Personal Auto</td>\n",
       "      <td>Personal L1</td>\n",
       "      <td>Offer1</td>\n",
       "      <td>Agent</td>\n",
       "      <td>138.130879</td>\n",
       "      <td>Four-Door Car</td>\n",
       "    </tr>\n",
       "    <tr>\n",
       "      <th>5</th>\n",
       "      <td>Oregon</td>\n",
       "      <td>8256.297800</td>\n",
       "      <td>Yes</td>\n",
       "      <td>Basic</td>\n",
       "      <td>Bachelor</td>\n",
       "      <td>Employed</td>\n",
       "      <td>F</td>\n",
       "      <td>62902</td>\n",
       "      <td>Rural</td>\n",
       "      <td>Married</td>\n",
       "      <td>...</td>\n",
       "      <td>14</td>\n",
       "      <td>94</td>\n",
       "      <td>0</td>\n",
       "      <td>2</td>\n",
       "      <td>Personal Auto</td>\n",
       "      <td>Personal L3</td>\n",
       "      <td>Offer2</td>\n",
       "      <td>Web</td>\n",
       "      <td>159.383042</td>\n",
       "      <td>Two-Door Car</td>\n",
       "    </tr>\n",
       "  </tbody>\n",
       "</table>\n",
       "<p>5 rows × 21 columns</p>\n",
       "</div>"
      ],
      "text/plain": [
       "        State           CLV Response  Coverage Education EmploymentStatus  \\\n",
       "1     Arizona   6979.535903       No  Extended  Bachelor       Unemployed   \n",
       "2      Nevada  12887.431650       No   Premium  Bachelor         Employed   \n",
       "3  California   7645.861827       No     Basic  Bachelor       Unemployed   \n",
       "4  Washington   2813.692575       No     Basic  Bachelor         Employed   \n",
       "5      Oregon   8256.297800      Yes     Basic  Bachelor         Employed   \n",
       "\n",
       "  Gender  Income LocationCode MaritalStatus  ...  MonthsSinceLastClaim  \\\n",
       "1      F       0     Suburban        Single  ...                    13   \n",
       "2      F   48767     Suburban       Married  ...                    18   \n",
       "3      M       0     Suburban       Married  ...                    18   \n",
       "4      M   43836        Rural        Single  ...                    12   \n",
       "5      F   62902        Rural       Married  ...                    14   \n",
       "\n",
       "   MonthsSincePolicyInception  NumberOfOpenComplaints  NumberofPolicies  \\\n",
       "1                          42                       0                 8   \n",
       "2                          38                       0                 2   \n",
       "3                          65                       0                 7   \n",
       "4                          44                       0                 1   \n",
       "5                          94                       0                 2   \n",
       "\n",
       "       PolicyType PolicySubType RenewOfferType SalesChannel TotalClaimAmount  \\\n",
       "1   Personal Auto   Personal L3         Offer3        Agent      1131.464935   \n",
       "2   Personal Auto   Personal L3         Offer1        Agent       566.472247   \n",
       "3  Corporate Auto  Corporate L2         Offer1  Call Center       529.881344   \n",
       "4   Personal Auto   Personal L1         Offer1        Agent       138.130879   \n",
       "5   Personal Auto   Personal L3         Offer2          Web       159.383042   \n",
       "\n",
       "    VehicleClass  \n",
       "1  Four-Door Car  \n",
       "2   Two-Door Car  \n",
       "3            SUV  \n",
       "4  Four-Door Car  \n",
       "5   Two-Door Car  \n",
       "\n",
       "[5 rows x 21 columns]"
      ]
     },
     "execution_count": 5,
     "metadata": {},
     "output_type": "execute_result"
    }
   ],
   "source": [
    "#Now we will treat the outliers , by replacing those values with the median values (using Interuartile Method)\n",
    "#Calculating Missing Values for CLV variable\n",
    "first_quantile_CLV = df['CLV'].quantile(0.25)\n",
    "third_quantile_CLV = df['CLV'].quantile(0.75)\n",
    "IQR_CLV = third_quantile_CLV - first_quantile_CLV\n",
    "#Range for Outliers\n",
    "up_threshold_CLV=third_quantile_CLV+1.5*IQR_CLV\n",
    "print(\"Upper Treshold of CLV: \",up_threshold_CLV)\n",
    "\n",
    "#Calculating Missing Values for Income variable\n",
    "first_quantile1 = df['Income'].quantile(0.25)\n",
    "third_quantile1 = df['Income'].quantile(0.75)\n",
    "IQR1 = third_quantile1 - first_quantile1\n",
    "#Range for Outliers\n",
    "up_threshold1=third_quantile1+1.5*IQR1\n",
    "print(\"Upper threshold of income:\", up_threshold1)\n",
    "\n",
    "# Removing anomalous datapoints \n",
    "# Where \"MonthsSincePolicyInception\" < \"MonthsSinceLastClaim\"  and there is only 1 or no policy\n",
    "# Where Income is 0 and CLV is greater than upper threshold of CLV\n",
    "\n",
    "i=0\n",
    "inception = df['MonthsSincePolicyInception']\n",
    "last = df['MonthsSinceLastClaim']\n",
    "number = df ['NumberofPolicies']\n",
    "for i in range (0,len(inception)):\n",
    "    if ( ((inception[i]<last[i]) & (number[i]<2)) or ((df['Income'][i]<=0) & (df['CLV'][i]>16414.0)) ):\n",
    "        df.drop([i], inplace=True)\n",
    "        \n",
    "df.head()"
   ]
  },
  {
   "cell_type": "markdown",
   "metadata": {
    "colab_type": "text",
    "id": "LLpIV-aHrh_P"
   },
   "source": [
    "4 - Encoding categorical variables based on their correlation with CLV values"
   ]
  },
  {
   "cell_type": "code",
   "execution_count": 6,
   "metadata": {
    "colab": {
     "base_uri": "https://localhost:8080/",
     "height": 1000
    },
    "colab_type": "code",
    "id": "HD4pKPfbqySy",
    "outputId": "112dfcca-81ce-4a10-ceee-711c1af1e0b8"
   },
   "outputs": [
    {
     "name": "stdout",
     "output_type": "stream",
     "text": [
      "Feature :  State\n",
      "value counts = {'California': 2921, 'Oregon': 2393, 'Arizona': 1572, 'Nevada': 794, 'Washington': 732}\n",
      "Correlation with CLV value\n",
      "{'Arizona': 7794.210284903309, 'Nevada': 8071.1020027644845, 'California': 7820.598872972612, 'Washington': 7692.521876677596, 'Oregon': 8027.041039030923}\n",
      "\n",
      "\n",
      "Feature :  Response\n",
      "value counts = {'No': 7200, 'Yes': 1212}\n",
      "Correlation with CLV value\n",
      "{'No': 7890.672056017361, 'Yes': 7864.4548538118825}\n",
      "\n",
      "\n",
      "Feature :  Coverage\n",
      "value counts = {'Basic': 5140, 'Extended': 2516, 'Premium': 756}\n",
      "Correlation with CLV value\n",
      "{'Extended': 8672.351962149842, 'Premium': 10736.393177034393, 'Basic': 7083.308814696109}\n",
      "\n",
      "\n",
      "Feature :  Education\n",
      "value counts = {'Bachelor': 2536, 'College': 2442, 'High School or Below': 2415, 'Master': 689, 'Doctor': 330}\n",
      "Correlation with CLV value\n",
      "{'Bachelor': 7796.397207557176, 'College': 7717.1522294197375, 'Master': 8337.609240422353, 'High School or Below': 8082.7635034380955, 'Doctor': 7464.0072608575765}\n",
      "\n",
      "\n",
      "Feature :  EmploymentStatus\n",
      "value counts = {'Employed': 5375, 'Unemployed': 1988, 'Medical Leave': 404, 'Disabled': 387, 'Retired': 258}\n",
      "Correlation with CLV value\n",
      "{'Unemployed': 6209.083508890342, 'Employed': 8490.394195898047, 'Medical Leave': 7930.210179309405, 'Disabled': 8053.5591933540045, 'Retired': 7924.414524224806}\n",
      "\n",
      "\n",
      "Feature :  Gender\n",
      "value counts = {'F': 4302, 'M': 4110}\n",
      "Correlation with CLV value\n",
      "{'F': 8027.392029697118, 'M': 7739.833959705109}\n",
      "\n",
      "\n",
      "Feature :  LocationCode\n",
      "value counts = {'Suburban': 5234, 'Rural': 1675, 'Urban': 1503}\n",
      "Correlation with CLV value\n",
      "{'Suburban': 7692.090778543369, 'Rural': 8203.853157197611, 'Urban': 8212.043188917498}\n",
      "\n",
      "\n",
      "Feature :  MaritalStatus\n",
      "value counts = {'Married': 4920, 'Single': 2216, 'Divorced': 1276}\n",
      "Correlation with CLV value\n",
      "{'Single': 7258.772400966154, 'Married': 8087.306697743089, 'Divorced': 8204.991765445142}\n",
      "\n",
      "\n",
      "Feature :  PolicyType\n",
      "value counts = {'Personal Auto': 6263, 'Corporate Auto': 1806, 'Special Auto': 343}\n",
      "Correlation with CLV value\n",
      "{'Personal Auto': 7917.812043830273, 'Corporate Auto': 7672.469669341085, 'Special Auto': 8451.373273486879}\n",
      "\n",
      "\n",
      "Feature :  PolicySubType\n",
      "value counts = {'Personal L3': 3173, 'Personal L2': 1951, 'Personal L1': 1139, 'Corporate L3': 929, 'Corporate L2': 545, 'Corporate L1': 332, 'Special L2': 150, 'Special L3': 135, 'Special L1': 58}\n",
      "Correlation with CLV value\n",
      "{'Personal L3': 7908.712056260006, 'Corporate L2': 7335.878938260551, 'Personal L1': 7795.043170827919, 'Corporate L3': 7598.146516946177, 'Special L2': 8413.257646146665, 'Corporate L1': 8432.976166370481, 'Personal L2': 8004.2846255371605, 'Special L1': 8097.145020948276, 'Special L3': 8645.910923474075}\n",
      "\n",
      "\n",
      "Feature :  RenewOfferType\n",
      "value counts = {'Offer1': 3505, 'Offer2': 2678, 'Offer3': 1305, 'Offer4': 924}\n",
      "Correlation with CLV value\n",
      "{'Offer3': 7834.960628011494, 'Offer1': 8419.750174110413, 'Offer2': 7415.2425779115, 'Offer4': 7305.942080829004}\n",
      "\n",
      "\n",
      "Feature :  SalesChannel\n",
      "value counts = {'Agent': 3221, 'Branch': 2335, 'Call Center': 1639, 'Web': 1217}\n",
      "Correlation with CLV value\n",
      "{'Agent': 7820.563385445514, 'Call Center': 8025.020397857229, 'Web': 7822.604166467543, 'Branch': 7914.948916036832}\n",
      "\n",
      "\n",
      "Feature :  VehicleClass\n",
      "value counts = {'Four-Door Car': 4298, 'Two-Door Car': 1743, 'SUV': 1614, 'Sports Car': 448, 'Luxury SUV': 164, 'Luxury Car': 145}\n",
      "Correlation with CLV value\n",
      "{'Four-Door Car': 6584.5247211463475, 'Two-Door Car': 6637.483371313253, 'SUV': 10380.448210666667, 'Luxury SUV': 16206.316333012195, 'Sports Car': 10591.893579415177, 'Luxury Car': 15986.825546558619}\n",
      "\n",
      "\n"
     ]
    }
   ],
   "source": [
    "def corr_with_clv(col_name):\n",
    "    dic={}\n",
    "    no_cat,cat=(df[col_name].nunique(),df[col_name].unique())\n",
    "    value_count=dict(df[col_name].value_counts())\n",
    "    print(f'value counts = {value_count}')\n",
    "    print(\"Correlation with CLV value\")\n",
    "    for i in range(no_cat):\n",
    "        dic[cat[i]]=df.loc[df[col_name] == cat[i], 'CLV'].sum()/value_count[cat[i]]\n",
    "\n",
    "    return dic\n",
    "  \n",
    "  \n",
    "for col in df.columns:\n",
    "  if df[col].dtype == 'object':\n",
    "    print(\"Feature : \",col)   \n",
    "    print(corr_with_clv(col))\n",
    "    print()\n",
    "    print()\n"
   ]
  },
  {
   "cell_type": "markdown",
   "metadata": {
    "colab_type": "text",
    "id": "3ZupE3_vtJWA"
   },
   "source": [
    "For those features where score is nearly same for all classes we used one hot encoding while for those features where class scores are unbalanced we mapped the code codes manually"
   ]
  },
  {
   "cell_type": "code",
   "execution_count": 7,
   "metadata": {
    "colab": {},
    "colab_type": "code",
    "id": "eS7WyfwBs7ul"
   },
   "outputs": [],
   "source": [
    "one_hot = pd.get_dummies(df['EmploymentStatus'])\n",
    "df = df.join(one_hot)\n",
    "del df['EmploymentStatus']\n",
    "\n",
    "df.replace({'PolicySubType':{'Personal L3': 1, 'Corporate L2': 0, 'Personal L1': 1, 'Corporate L3': 0, 'Special L2': 2, 'Corporate L1': 2, 'Personal L2': 2, 'Special L1': 2, 'Special L3': 2}}, inplace=True)\n",
    "\n",
    "one_hot = pd.get_dummies(df['MaritalStatus'])\n",
    "df = df.join(one_hot)\n",
    "del df['MaritalStatus']\n",
    "\n",
    "one_hot = pd.get_dummies(df['LocationCode'])\n",
    "df = df.join(one_hot)\n",
    "del df['LocationCode']\n",
    "\n",
    "one_hot = pd.get_dummies(df['Education'])\n",
    "df = df.join(one_hot)\n",
    "del df['Education']\n",
    "\n",
    "one_hot = pd.get_dummies(df['SalesChannel'])\n",
    "df = df.join(one_hot)\n",
    "del df['SalesChannel']\n",
    "\n",
    "df.replace({'RenewOfferType':{'Offer1':3 , 'Offer2':2 , 'Offer3':1 , 'Offer4':0}}, inplace=True)\n",
    "df.replace({'Coverage':{'Basic':0 , 'Extended':1 , 'Premium':2 }}, inplace=True)\n",
    "df.replace({'PolicyType':{'Personal Auto':0 , 'Corporate Auto':1 , 'Special Auto':2 }}, inplace=True)\n",
    "encode = {\"VehicleClass\": {\"Four-Door Car\":0, \"Two-Door Car\":1,\"SUV\":2,\"Sports Car\":3,\"Luxury SUV\":5,\"Luxury Car\":4}}\n",
    "df.replace(encode, inplace=True)\n",
    "\n",
    "df.replace({'Gender':{'M':1 , 'F':0}}, inplace=True)\n",
    "\n",
    "df.replace({'Response':{'Yes':1 , 'No':0}}, inplace=True)\n",
    "\n",
    "one_hot = pd.get_dummies(df['State'])\n",
    "df = df.join(one_hot)\n",
    "del df['State']"
   ]
  },
  {
   "cell_type": "code",
   "execution_count": 8,
   "metadata": {
    "colab": {
     "base_uri": "https://localhost:8080/",
     "height": 275
    },
    "colab_type": "code",
    "id": "yPVcNno8t9uj",
    "outputId": "ff3964f2-54cc-4c12-a9b4-169eb2190aaf"
   },
   "outputs": [
    {
     "data": {
      "text/html": [
       "<div>\n",
       "<style scoped>\n",
       "    .dataframe tbody tr th:only-of-type {\n",
       "        vertical-align: middle;\n",
       "    }\n",
       "\n",
       "    .dataframe tbody tr th {\n",
       "        vertical-align: top;\n",
       "    }\n",
       "\n",
       "    .dataframe thead th {\n",
       "        text-align: right;\n",
       "    }\n",
       "</style>\n",
       "<table border=\"1\" class=\"dataframe\">\n",
       "  <thead>\n",
       "    <tr style=\"text-align: right;\">\n",
       "      <th></th>\n",
       "      <th>CLV</th>\n",
       "      <th>Response</th>\n",
       "      <th>Coverage</th>\n",
       "      <th>Gender</th>\n",
       "      <th>Income</th>\n",
       "      <th>MonthlyPremiumAuto</th>\n",
       "      <th>MonthsSinceLastClaim</th>\n",
       "      <th>MonthsSincePolicyInception</th>\n",
       "      <th>NumberOfOpenComplaints</th>\n",
       "      <th>NumberofPolicies</th>\n",
       "      <th>...</th>\n",
       "      <th>Master</th>\n",
       "      <th>Agent</th>\n",
       "      <th>Branch</th>\n",
       "      <th>Call Center</th>\n",
       "      <th>Web</th>\n",
       "      <th>Arizona</th>\n",
       "      <th>California</th>\n",
       "      <th>Nevada</th>\n",
       "      <th>Oregon</th>\n",
       "      <th>Washington</th>\n",
       "    </tr>\n",
       "  </thead>\n",
       "  <tbody>\n",
       "    <tr>\n",
       "      <th>1</th>\n",
       "      <td>6979.535903</td>\n",
       "      <td>0</td>\n",
       "      <td>1</td>\n",
       "      <td>0</td>\n",
       "      <td>0</td>\n",
       "      <td>94</td>\n",
       "      <td>13</td>\n",
       "      <td>42</td>\n",
       "      <td>0</td>\n",
       "      <td>8</td>\n",
       "      <td>...</td>\n",
       "      <td>0</td>\n",
       "      <td>1</td>\n",
       "      <td>0</td>\n",
       "      <td>0</td>\n",
       "      <td>0</td>\n",
       "      <td>1</td>\n",
       "      <td>0</td>\n",
       "      <td>0</td>\n",
       "      <td>0</td>\n",
       "      <td>0</td>\n",
       "    </tr>\n",
       "    <tr>\n",
       "      <th>2</th>\n",
       "      <td>12887.431650</td>\n",
       "      <td>0</td>\n",
       "      <td>2</td>\n",
       "      <td>0</td>\n",
       "      <td>48767</td>\n",
       "      <td>108</td>\n",
       "      <td>18</td>\n",
       "      <td>38</td>\n",
       "      <td>0</td>\n",
       "      <td>2</td>\n",
       "      <td>...</td>\n",
       "      <td>0</td>\n",
       "      <td>1</td>\n",
       "      <td>0</td>\n",
       "      <td>0</td>\n",
       "      <td>0</td>\n",
       "      <td>0</td>\n",
       "      <td>0</td>\n",
       "      <td>1</td>\n",
       "      <td>0</td>\n",
       "      <td>0</td>\n",
       "    </tr>\n",
       "    <tr>\n",
       "      <th>3</th>\n",
       "      <td>7645.861827</td>\n",
       "      <td>0</td>\n",
       "      <td>0</td>\n",
       "      <td>1</td>\n",
       "      <td>0</td>\n",
       "      <td>106</td>\n",
       "      <td>18</td>\n",
       "      <td>65</td>\n",
       "      <td>0</td>\n",
       "      <td>7</td>\n",
       "      <td>...</td>\n",
       "      <td>0</td>\n",
       "      <td>0</td>\n",
       "      <td>0</td>\n",
       "      <td>1</td>\n",
       "      <td>0</td>\n",
       "      <td>0</td>\n",
       "      <td>1</td>\n",
       "      <td>0</td>\n",
       "      <td>0</td>\n",
       "      <td>0</td>\n",
       "    </tr>\n",
       "    <tr>\n",
       "      <th>4</th>\n",
       "      <td>2813.692575</td>\n",
       "      <td>0</td>\n",
       "      <td>0</td>\n",
       "      <td>1</td>\n",
       "      <td>43836</td>\n",
       "      <td>73</td>\n",
       "      <td>12</td>\n",
       "      <td>44</td>\n",
       "      <td>0</td>\n",
       "      <td>1</td>\n",
       "      <td>...</td>\n",
       "      <td>0</td>\n",
       "      <td>1</td>\n",
       "      <td>0</td>\n",
       "      <td>0</td>\n",
       "      <td>0</td>\n",
       "      <td>0</td>\n",
       "      <td>0</td>\n",
       "      <td>0</td>\n",
       "      <td>0</td>\n",
       "      <td>1</td>\n",
       "    </tr>\n",
       "    <tr>\n",
       "      <th>5</th>\n",
       "      <td>8256.297800</td>\n",
       "      <td>1</td>\n",
       "      <td>0</td>\n",
       "      <td>0</td>\n",
       "      <td>62902</td>\n",
       "      <td>69</td>\n",
       "      <td>14</td>\n",
       "      <td>94</td>\n",
       "      <td>0</td>\n",
       "      <td>2</td>\n",
       "      <td>...</td>\n",
       "      <td>0</td>\n",
       "      <td>0</td>\n",
       "      <td>0</td>\n",
       "      <td>0</td>\n",
       "      <td>1</td>\n",
       "      <td>0</td>\n",
       "      <td>0</td>\n",
       "      <td>0</td>\n",
       "      <td>1</td>\n",
       "      <td>0</td>\n",
       "    </tr>\n",
       "  </tbody>\n",
       "</table>\n",
       "<p>5 rows × 40 columns</p>\n",
       "</div>"
      ],
      "text/plain": [
       "            CLV  Response  Coverage  Gender  Income  MonthlyPremiumAuto  \\\n",
       "1   6979.535903         0         1       0       0                  94   \n",
       "2  12887.431650         0         2       0   48767                 108   \n",
       "3   7645.861827         0         0       1       0                 106   \n",
       "4   2813.692575         0         0       1   43836                  73   \n",
       "5   8256.297800         1         0       0   62902                  69   \n",
       "\n",
       "   MonthsSinceLastClaim  MonthsSincePolicyInception  NumberOfOpenComplaints  \\\n",
       "1                    13                          42                       0   \n",
       "2                    18                          38                       0   \n",
       "3                    18                          65                       0   \n",
       "4                    12                          44                       0   \n",
       "5                    14                          94                       0   \n",
       "\n",
       "   NumberofPolicies  ...  Master  Agent  Branch  Call Center  Web  Arizona  \\\n",
       "1                 8  ...       0      1       0            0    0        1   \n",
       "2                 2  ...       0      1       0            0    0        0   \n",
       "3                 7  ...       0      0       0            1    0        0   \n",
       "4                 1  ...       0      1       0            0    0        0   \n",
       "5                 2  ...       0      0       0            0    1        0   \n",
       "\n",
       "   California  Nevada  Oregon  Washington  \n",
       "1           0       0       0           0  \n",
       "2           0       1       0           0  \n",
       "3           1       0       0           0  \n",
       "4           0       0       0           1  \n",
       "5           0       0       1           0  \n",
       "\n",
       "[5 rows x 40 columns]"
      ]
     },
     "execution_count": 8,
     "metadata": {},
     "output_type": "execute_result"
    }
   ],
   "source": [
    "df.head()"
   ]
  },
  {
   "cell_type": "markdown",
   "metadata": {
    "colab_type": "text",
    "id": "vkfihdAnuo-O"
   },
   "source": [
    "5- Removing outlier using Interquantile range"
   ]
  },
  {
   "cell_type": "code",
   "execution_count": 9,
   "metadata": {
    "colab": {
     "base_uri": "https://localhost:8080/",
     "height": 281
    },
    "colab_type": "code",
    "id": "D5-_6ldruIaK",
    "outputId": "1a7e6b43-61c5-4785-d701-07c98a4a490d"
   },
   "outputs": [
    {
     "data": {
      "image/png": "[encoded data removed]",
      "text/plain": [
       "<Figure size 432x288 with 1 Axes>"
      ]
     },
     "metadata": {
      "needs_background": "light"
     },
     "output_type": "display_data"
    }
   ],
   "source": [
    "plot1 = df[['Income']].plot.box()\n",
    "plt.title('Detecting Outliers for Numerical Variables in the Current Dataset')\n",
    "plt.show()\n",
    "\n",
    "#Calculating Missing Values for Income variable\n",
    "first_quantile1 = df['Income'].quantile(0.25)\n",
    "third_quantile1 = df['Income'].quantile(0.75)\n",
    "IQR1 = third_quantile1 - first_quantile1\n",
    "#Range for Outliers\n",
    "up_threshold1=third_quantile1+1.5*IQR1\n",
    "up_threshold1\n",
    "down_threshold1=first_quantile1-1.5*IQR1\n",
    "down_threshold1\n",
    "#Treatment\n",
    "median1 = float(df['Income'].median())\n",
    "median1\n",
    "df[\"Income\"] = np.where(df[\"Income\"] >up_threshold1, median1,df['Income'])\n",
    "\n"
   ]
  },
  {
   "cell_type": "code",
   "execution_count": 10,
   "metadata": {
    "colab": {
     "base_uri": "https://localhost:8080/",
     "height": 809
    },
    "colab_type": "code",
    "id": "Ik-XU9V4yHS4",
    "outputId": "44e70032-8c25-4753-f0bc-8ee9761adaf1"
   },
   "outputs": [
    {
     "data": {
      "image/png": "[encoded data removed]",
      "text/plain": [
       "<Figure size 432x288 with 1 Axes>"
      ]
     },
     "metadata": {
      "needs_background": "light"
     },
     "output_type": "display_data"
    },
    {
     "data": {
      "image/png": "[encoded data removed]",
      "text/plain": [
       "<Figure size 432x288 with 1 Axes>"
      ]
     },
     "metadata": {
      "needs_background": "light"
     },
     "output_type": "display_data"
    },
    {
     "data": {
      "image/png": "[encoded data removed]",
      "text/plain": [
       "<Figure size 432x288 with 1 Axes>"
      ]
     },
     "metadata": {
      "needs_background": "light"
     },
     "output_type": "display_data"
    }
   ],
   "source": [
    "plot1 = df[['MonthsSinceLastClaim']].plot.box()\n",
    "plt.title('Detecting Outliers for Numerical Variables in the Current Dataset')\n",
    "plt.show()\n",
    "\n",
    "plot1 = df[['MonthsSincePolicyInception']].plot.box()\n",
    "plt.title('Detecting Outliers for Numerical Variables in the Current Dataset')\n",
    "plt.show()\n",
    "\n",
    "plot1 = df[['MonthsSincePolicyInception']].plot.box()\n",
    "plt.title('Detecting Outliers for Numerical Variables in the Current Dataset')\n",
    "plt.show()\n",
    "\n",
    "#Calculating Missing Values for No of Policies variable\n",
    "first_quantile4 = df['NumberofPolicies'].quantile(0.25)\n",
    "third_quantile4 = df['NumberofPolicies'].quantile(0.75)\n",
    "IQR4 = third_quantile4 - first_quantile4\n",
    "#Range for Outliers\n",
    "up_threshold4=third_quantile4+1.5*IQR4\n",
    "up_threshold4\n",
    "down_threshold4=first_quantile4-1.5*IQR4\n",
    "down_threshold4\n",
    "#Treatment\n",
    "median4 = float(df['NumberofPolicies'].median())\n",
    "median4\n",
    "df[\"NumberofPolicies\"] = np.where(df[\"NumberofPolicies\"] >up_threshold4, median4,df['NumberofPolicies'])\n",
    "\n"
   ]
  },
  {
   "cell_type": "code",
   "execution_count": 11,
   "metadata": {
    "colab": {
     "base_uri": "https://localhost:8080/",
     "height": 281
    },
    "colab_type": "code",
    "id": "NJpc6jA-ykdG",
    "outputId": "9a054468-5f7b-4419-db48-e9f68447e639"
   },
   "outputs": [
    {
     "data": {
      "image/png": "[encoded data removed]",
      "text/plain": [
       "<Figure size 432x288 with 1 Axes>"
      ]
     },
     "metadata": {
      "needs_background": "light"
     },
     "output_type": "display_data"
    }
   ],
   "source": [
    "plot1 = df[['TotalClaimAmount']].plot.box()\n",
    "plt.title('Detecting Outliers for Numerical Variables in the Current Dataset')\n",
    "plt.show()\n",
    "\n",
    "#Calculating Missing Values for Total Claim Amount variable\n",
    "first_quantile3 = df['TotalClaimAmount'].quantile(0.25)\n",
    "third_quantile3 = df['TotalClaimAmount'].quantile(0.75)\n",
    "IQR3 = third_quantile3 - first_quantile3\n",
    "#Range for Outliers\n",
    "up_threshold3=third_quantile3+1.5*IQR3\n",
    "up_threshold3\n",
    "down_threshold3=first_quantile3-1.5*IQR3\n",
    "down_threshold3\n",
    "#Treatment\n",
    "median3 = float(df['TotalClaimAmount'].median())\n",
    "median3\n",
    "df[\"TotalClaimAmount\"] = np.where(df[\"TotalClaimAmount\"] >up_threshold3, median3,df['TotalClaimAmount'])\n",
    "\n"
   ]
  },
  {
   "cell_type": "code",
   "execution_count": 12,
   "metadata": {
    "colab": {
     "base_uri": "https://localhost:8080/",
     "height": 1000
    },
    "colab_type": "code",
    "id": "Pg1g9vokysTy",
    "outputId": "35ef105b-ef84-4475-f727-261c89ac4bb1"
   },
   "outputs": [
    {
     "data": {
      "text/html": [
       "<div>\n",
       "<style scoped>\n",
       "    .dataframe tbody tr th:only-of-type {\n",
       "        vertical-align: middle;\n",
       "    }\n",
       "\n",
       "    .dataframe tbody tr th {\n",
       "        vertical-align: top;\n",
       "    }\n",
       "\n",
       "    .dataframe thead th {\n",
       "        text-align: right;\n",
       "    }\n",
       "</style>\n",
       "<table border=\"1\" class=\"dataframe\">\n",
       "  <thead>\n",
       "    <tr style=\"text-align: right;\">\n",
       "      <th></th>\n",
       "      <th>count</th>\n",
       "      <th>mean</th>\n",
       "      <th>std</th>\n",
       "      <th>min</th>\n",
       "      <th>25%</th>\n",
       "      <th>50%</th>\n",
       "      <th>75%</th>\n",
       "      <th>max</th>\n",
       "    </tr>\n",
       "  </thead>\n",
       "  <tbody>\n",
       "    <tr>\n",
       "      <th>CLV</th>\n",
       "      <td>8412.0</td>\n",
       "      <td>7886.894685</td>\n",
       "      <td>6433.578930</td>\n",
       "      <td>1898.007675</td>\n",
       "      <td>4242.428750</td>\n",
       "      <td>5930.016709</td>\n",
       "      <td>8901.943166</td>\n",
       "      <td>83325.381190</td>\n",
       "    </tr>\n",
       "    <tr>\n",
       "      <th>Response</th>\n",
       "      <td>8412.0</td>\n",
       "      <td>0.144080</td>\n",
       "      <td>0.351192</td>\n",
       "      <td>0.000000</td>\n",
       "      <td>0.000000</td>\n",
       "      <td>0.000000</td>\n",
       "      <td>0.000000</td>\n",
       "      <td>1.000000</td>\n",
       "    </tr>\n",
       "    <tr>\n",
       "      <th>Coverage</th>\n",
       "      <td>8412.0</td>\n",
       "      <td>0.478840</td>\n",
       "      <td>0.655245</td>\n",
       "      <td>0.000000</td>\n",
       "      <td>0.000000</td>\n",
       "      <td>0.000000</td>\n",
       "      <td>1.000000</td>\n",
       "      <td>2.000000</td>\n",
       "    </tr>\n",
       "    <tr>\n",
       "      <th>Gender</th>\n",
       "      <td>8412.0</td>\n",
       "      <td>0.488588</td>\n",
       "      <td>0.499899</td>\n",
       "      <td>0.000000</td>\n",
       "      <td>0.000000</td>\n",
       "      <td>0.000000</td>\n",
       "      <td>1.000000</td>\n",
       "      <td>1.000000</td>\n",
       "    </tr>\n",
       "    <tr>\n",
       "      <th>Income</th>\n",
       "      <td>8412.0</td>\n",
       "      <td>38548.397646</td>\n",
       "      <td>30194.964773</td>\n",
       "      <td>0.000000</td>\n",
       "      <td>12611.750000</td>\n",
       "      <td>35138.000000</td>\n",
       "      <td>62811.250000</td>\n",
       "      <td>99981.000000</td>\n",
       "    </tr>\n",
       "    <tr>\n",
       "      <th>MonthlyPremiumAuto</th>\n",
       "      <td>8412.0</td>\n",
       "      <td>92.832263</td>\n",
       "      <td>33.993209</td>\n",
       "      <td>61.000000</td>\n",
       "      <td>68.000000</td>\n",
       "      <td>83.000000</td>\n",
       "      <td>109.000000</td>\n",
       "      <td>298.000000</td>\n",
       "    </tr>\n",
       "    <tr>\n",
       "      <th>MonthsSinceLastClaim</th>\n",
       "      <td>8412.0</td>\n",
       "      <td>14.640632</td>\n",
       "      <td>9.991357</td>\n",
       "      <td>0.000000</td>\n",
       "      <td>6.000000</td>\n",
       "      <td>13.000000</td>\n",
       "      <td>23.000000</td>\n",
       "      <td>35.000000</td>\n",
       "    </tr>\n",
       "    <tr>\n",
       "      <th>MonthsSincePolicyInception</th>\n",
       "      <td>8412.0</td>\n",
       "      <td>50.371969</td>\n",
       "      <td>27.057514</td>\n",
       "      <td>0.000000</td>\n",
       "      <td>28.000000</td>\n",
       "      <td>50.000000</td>\n",
       "      <td>73.000000</td>\n",
       "      <td>99.000000</td>\n",
       "    </tr>\n",
       "    <tr>\n",
       "      <th>NumberOfOpenComplaints</th>\n",
       "      <td>8412.0</td>\n",
       "      <td>0.389206</td>\n",
       "      <td>0.921464</td>\n",
       "      <td>0.000000</td>\n",
       "      <td>0.000000</td>\n",
       "      <td>0.000000</td>\n",
       "      <td>0.000000</td>\n",
       "      <td>5.000000</td>\n",
       "    </tr>\n",
       "    <tr>\n",
       "      <th>NumberofPolicies</th>\n",
       "      <td>8412.0</td>\n",
       "      <td>2.763195</td>\n",
       "      <td>2.035539</td>\n",
       "      <td>1.000000</td>\n",
       "      <td>1.000000</td>\n",
       "      <td>2.000000</td>\n",
       "      <td>3.000000</td>\n",
       "      <td>8.000000</td>\n",
       "    </tr>\n",
       "    <tr>\n",
       "      <th>PolicyType</th>\n",
       "      <td>8412.0</td>\n",
       "      <td>0.296243</td>\n",
       "      <td>0.538580</td>\n",
       "      <td>0.000000</td>\n",
       "      <td>0.000000</td>\n",
       "      <td>0.000000</td>\n",
       "      <td>1.000000</td>\n",
       "      <td>2.000000</td>\n",
       "    </tr>\n",
       "    <tr>\n",
       "      <th>PolicySubType</th>\n",
       "      <td>8412.0</td>\n",
       "      <td>1.136947</td>\n",
       "      <td>0.684617</td>\n",
       "      <td>0.000000</td>\n",
       "      <td>1.000000</td>\n",
       "      <td>1.000000</td>\n",
       "      <td>2.000000</td>\n",
       "      <td>2.000000</td>\n",
       "    </tr>\n",
       "    <tr>\n",
       "      <th>RenewOfferType</th>\n",
       "      <td>8412.0</td>\n",
       "      <td>2.041845</td>\n",
       "      <td>1.004760</td>\n",
       "      <td>0.000000</td>\n",
       "      <td>1.000000</td>\n",
       "      <td>2.000000</td>\n",
       "      <td>3.000000</td>\n",
       "      <td>3.000000</td>\n",
       "    </tr>\n",
       "    <tr>\n",
       "      <th>TotalClaimAmount</th>\n",
       "      <td>8412.0</td>\n",
       "      <td>384.730566</td>\n",
       "      <td>204.664026</td>\n",
       "      <td>0.099007</td>\n",
       "      <td>263.929018</td>\n",
       "      <td>375.602228</td>\n",
       "      <td>509.203874</td>\n",
       "      <td>959.849922</td>\n",
       "    </tr>\n",
       "    <tr>\n",
       "      <th>VehicleClass</th>\n",
       "      <td>8412.0</td>\n",
       "      <td>0.917142</td>\n",
       "      <td>1.173117</td>\n",
       "      <td>0.000000</td>\n",
       "      <td>0.000000</td>\n",
       "      <td>0.000000</td>\n",
       "      <td>2.000000</td>\n",
       "      <td>5.000000</td>\n",
       "    </tr>\n",
       "    <tr>\n",
       "      <th>Disabled</th>\n",
       "      <td>8412.0</td>\n",
       "      <td>0.046006</td>\n",
       "      <td>0.209510</td>\n",
       "      <td>0.000000</td>\n",
       "      <td>0.000000</td>\n",
       "      <td>0.000000</td>\n",
       "      <td>0.000000</td>\n",
       "      <td>1.000000</td>\n",
       "    </tr>\n",
       "    <tr>\n",
       "      <th>Employed</th>\n",
       "      <td>8412.0</td>\n",
       "      <td>0.638968</td>\n",
       "      <td>0.480328</td>\n",
       "      <td>0.000000</td>\n",
       "      <td>0.000000</td>\n",
       "      <td>1.000000</td>\n",
       "      <td>1.000000</td>\n",
       "      <td>1.000000</td>\n",
       "    </tr>\n",
       "    <tr>\n",
       "      <th>Medical Leave</th>\n",
       "      <td>8412.0</td>\n",
       "      <td>0.048027</td>\n",
       "      <td>0.213835</td>\n",
       "      <td>0.000000</td>\n",
       "      <td>0.000000</td>\n",
       "      <td>0.000000</td>\n",
       "      <td>0.000000</td>\n",
       "      <td>1.000000</td>\n",
       "    </tr>\n",
       "    <tr>\n",
       "      <th>Retired</th>\n",
       "      <td>8412.0</td>\n",
       "      <td>0.030670</td>\n",
       "      <td>0.172434</td>\n",
       "      <td>0.000000</td>\n",
       "      <td>0.000000</td>\n",
       "      <td>0.000000</td>\n",
       "      <td>0.000000</td>\n",
       "      <td>1.000000</td>\n",
       "    </tr>\n",
       "    <tr>\n",
       "      <th>Unemployed</th>\n",
       "      <td>8412.0</td>\n",
       "      <td>0.236329</td>\n",
       "      <td>0.424852</td>\n",
       "      <td>0.000000</td>\n",
       "      <td>0.000000</td>\n",
       "      <td>0.000000</td>\n",
       "      <td>0.000000</td>\n",
       "      <td>1.000000</td>\n",
       "    </tr>\n",
       "    <tr>\n",
       "      <th>Divorced</th>\n",
       "      <td>8412.0</td>\n",
       "      <td>0.151688</td>\n",
       "      <td>0.358740</td>\n",
       "      <td>0.000000</td>\n",
       "      <td>0.000000</td>\n",
       "      <td>0.000000</td>\n",
       "      <td>0.000000</td>\n",
       "      <td>1.000000</td>\n",
       "    </tr>\n",
       "    <tr>\n",
       "      <th>Married</th>\n",
       "      <td>8412.0</td>\n",
       "      <td>0.584879</td>\n",
       "      <td>0.492772</td>\n",
       "      <td>0.000000</td>\n",
       "      <td>0.000000</td>\n",
       "      <td>1.000000</td>\n",
       "      <td>1.000000</td>\n",
       "      <td>1.000000</td>\n",
       "    </tr>\n",
       "    <tr>\n",
       "      <th>Single</th>\n",
       "      <td>8412.0</td>\n",
       "      <td>0.263433</td>\n",
       "      <td>0.440522</td>\n",
       "      <td>0.000000</td>\n",
       "      <td>0.000000</td>\n",
       "      <td>0.000000</td>\n",
       "      <td>1.000000</td>\n",
       "      <td>1.000000</td>\n",
       "    </tr>\n",
       "    <tr>\n",
       "      <th>Rural</th>\n",
       "      <td>8412.0</td>\n",
       "      <td>0.199120</td>\n",
       "      <td>0.399362</td>\n",
       "      <td>0.000000</td>\n",
       "      <td>0.000000</td>\n",
       "      <td>0.000000</td>\n",
       "      <td>0.000000</td>\n",
       "      <td>1.000000</td>\n",
       "    </tr>\n",
       "    <tr>\n",
       "      <th>Suburban</th>\n",
       "      <td>8412.0</td>\n",
       "      <td>0.622206</td>\n",
       "      <td>0.484864</td>\n",
       "      <td>0.000000</td>\n",
       "      <td>0.000000</td>\n",
       "      <td>1.000000</td>\n",
       "      <td>1.000000</td>\n",
       "      <td>1.000000</td>\n",
       "    </tr>\n",
       "    <tr>\n",
       "      <th>Urban</th>\n",
       "      <td>8412.0</td>\n",
       "      <td>0.178673</td>\n",
       "      <td>0.383101</td>\n",
       "      <td>0.000000</td>\n",
       "      <td>0.000000</td>\n",
       "      <td>0.000000</td>\n",
       "      <td>0.000000</td>\n",
       "      <td>1.000000</td>\n",
       "    </tr>\n",
       "    <tr>\n",
       "      <th>Bachelor</th>\n",
       "      <td>8412.0</td>\n",
       "      <td>0.301474</td>\n",
       "      <td>0.458925</td>\n",
       "      <td>0.000000</td>\n",
       "      <td>0.000000</td>\n",
       "      <td>0.000000</td>\n",
       "      <td>1.000000</td>\n",
       "      <td>1.000000</td>\n",
       "    </tr>\n",
       "    <tr>\n",
       "      <th>College</th>\n",
       "      <td>8412.0</td>\n",
       "      <td>0.290300</td>\n",
       "      <td>0.453928</td>\n",
       "      <td>0.000000</td>\n",
       "      <td>0.000000</td>\n",
       "      <td>0.000000</td>\n",
       "      <td>1.000000</td>\n",
       "      <td>1.000000</td>\n",
       "    </tr>\n",
       "    <tr>\n",
       "      <th>Doctor</th>\n",
       "      <td>8412.0</td>\n",
       "      <td>0.039230</td>\n",
       "      <td>0.194152</td>\n",
       "      <td>0.000000</td>\n",
       "      <td>0.000000</td>\n",
       "      <td>0.000000</td>\n",
       "      <td>0.000000</td>\n",
       "      <td>1.000000</td>\n",
       "    </tr>\n",
       "    <tr>\n",
       "      <th>High School or Below</th>\n",
       "      <td>8412.0</td>\n",
       "      <td>0.287090</td>\n",
       "      <td>0.452431</td>\n",
       "      <td>0.000000</td>\n",
       "      <td>0.000000</td>\n",
       "      <td>0.000000</td>\n",
       "      <td>1.000000</td>\n",
       "      <td>1.000000</td>\n",
       "    </tr>\n",
       "    <tr>\n",
       "      <th>Master</th>\n",
       "      <td>8412.0</td>\n",
       "      <td>0.081907</td>\n",
       "      <td>0.274239</td>\n",
       "      <td>0.000000</td>\n",
       "      <td>0.000000</td>\n",
       "      <td>0.000000</td>\n",
       "      <td>0.000000</td>\n",
       "      <td>1.000000</td>\n",
       "    </tr>\n",
       "    <tr>\n",
       "      <th>Agent</th>\n",
       "      <td>8412.0</td>\n",
       "      <td>0.382905</td>\n",
       "      <td>0.486124</td>\n",
       "      <td>0.000000</td>\n",
       "      <td>0.000000</td>\n",
       "      <td>0.000000</td>\n",
       "      <td>1.000000</td>\n",
       "      <td>1.000000</td>\n",
       "    </tr>\n",
       "    <tr>\n",
       "      <th>Branch</th>\n",
       "      <td>8412.0</td>\n",
       "      <td>0.277580</td>\n",
       "      <td>0.447831</td>\n",
       "      <td>0.000000</td>\n",
       "      <td>0.000000</td>\n",
       "      <td>0.000000</td>\n",
       "      <td>1.000000</td>\n",
       "      <td>1.000000</td>\n",
       "    </tr>\n",
       "    <tr>\n",
       "      <th>Call Center</th>\n",
       "      <td>8412.0</td>\n",
       "      <td>0.194841</td>\n",
       "      <td>0.396102</td>\n",
       "      <td>0.000000</td>\n",
       "      <td>0.000000</td>\n",
       "      <td>0.000000</td>\n",
       "      <td>0.000000</td>\n",
       "      <td>1.000000</td>\n",
       "    </tr>\n",
       "    <tr>\n",
       "      <th>Web</th>\n",
       "      <td>8412.0</td>\n",
       "      <td>0.144674</td>\n",
       "      <td>0.351793</td>\n",
       "      <td>0.000000</td>\n",
       "      <td>0.000000</td>\n",
       "      <td>0.000000</td>\n",
       "      <td>0.000000</td>\n",
       "      <td>1.000000</td>\n",
       "    </tr>\n",
       "    <tr>\n",
       "      <th>Arizona</th>\n",
       "      <td>8412.0</td>\n",
       "      <td>0.186876</td>\n",
       "      <td>0.389835</td>\n",
       "      <td>0.000000</td>\n",
       "      <td>0.000000</td>\n",
       "      <td>0.000000</td>\n",
       "      <td>0.000000</td>\n",
       "      <td>1.000000</td>\n",
       "    </tr>\n",
       "    <tr>\n",
       "      <th>California</th>\n",
       "      <td>8412.0</td>\n",
       "      <td>0.347242</td>\n",
       "      <td>0.476122</td>\n",
       "      <td>0.000000</td>\n",
       "      <td>0.000000</td>\n",
       "      <td>0.000000</td>\n",
       "      <td>1.000000</td>\n",
       "      <td>1.000000</td>\n",
       "    </tr>\n",
       "    <tr>\n",
       "      <th>Nevada</th>\n",
       "      <td>8412.0</td>\n",
       "      <td>0.094389</td>\n",
       "      <td>0.292386</td>\n",
       "      <td>0.000000</td>\n",
       "      <td>0.000000</td>\n",
       "      <td>0.000000</td>\n",
       "      <td>0.000000</td>\n",
       "      <td>1.000000</td>\n",
       "    </tr>\n",
       "    <tr>\n",
       "      <th>Oregon</th>\n",
       "      <td>8412.0</td>\n",
       "      <td>0.284475</td>\n",
       "      <td>0.451191</td>\n",
       "      <td>0.000000</td>\n",
       "      <td>0.000000</td>\n",
       "      <td>0.000000</td>\n",
       "      <td>1.000000</td>\n",
       "      <td>1.000000</td>\n",
       "    </tr>\n",
       "    <tr>\n",
       "      <th>Washington</th>\n",
       "      <td>8412.0</td>\n",
       "      <td>0.087019</td>\n",
       "      <td>0.281879</td>\n",
       "      <td>0.000000</td>\n",
       "      <td>0.000000</td>\n",
       "      <td>0.000000</td>\n",
       "      <td>0.000000</td>\n",
       "      <td>1.000000</td>\n",
       "    </tr>\n",
       "  </tbody>\n",
       "</table>\n",
       "</div>"
      ],
      "text/plain": [
       "                             count          mean           std          min  \\\n",
       "CLV                         8412.0   7886.894685   6433.578930  1898.007675   \n",
       "Response                    8412.0      0.144080      0.351192     0.000000   \n",
       "Coverage                    8412.0      0.478840      0.655245     0.000000   \n",
       "Gender                      8412.0      0.488588      0.499899     0.000000   \n",
       "Income                      8412.0  38548.397646  30194.964773     0.000000   \n",
       "MonthlyPremiumAuto          8412.0     92.832263     33.993209    61.000000   \n",
       "MonthsSinceLastClaim        8412.0     14.640632      9.991357     0.000000   \n",
       "MonthsSincePolicyInception  8412.0     50.371969     27.057514     0.000000   \n",
       "NumberOfOpenComplaints      8412.0      0.389206      0.921464     0.000000   \n",
       "NumberofPolicies            8412.0      2.763195      2.035539     1.000000   \n",
       "PolicyType                  8412.0      0.296243      0.538580     0.000000   \n",
       "PolicySubType               8412.0      1.136947      0.684617     0.000000   \n",
       "RenewOfferType              8412.0      2.041845      1.004760     0.000000   \n",
       "TotalClaimAmount            8412.0    384.730566    204.664026     0.099007   \n",
       "VehicleClass                8412.0      0.917142      1.173117     0.000000   \n",
       "Disabled                    8412.0      0.046006      0.209510     0.000000   \n",
       "Employed                    8412.0      0.638968      0.480328     0.000000   \n",
       "Medical Leave               8412.0      0.048027      0.213835     0.000000   \n",
       "Retired                     8412.0      0.030670      0.172434     0.000000   \n",
       "Unemployed                  8412.0      0.236329      0.424852     0.000000   \n",
       "Divorced                    8412.0      0.151688      0.358740     0.000000   \n",
       "Married                     8412.0      0.584879      0.492772     0.000000   \n",
       "Single                      8412.0      0.263433      0.440522     0.000000   \n",
       "Rural                       8412.0      0.199120      0.399362     0.000000   \n",
       "Suburban                    8412.0      0.622206      0.484864     0.000000   \n",
       "Urban                       8412.0      0.178673      0.383101     0.000000   \n",
       "Bachelor                    8412.0      0.301474      0.458925     0.000000   \n",
       "College                     8412.0      0.290300      0.453928     0.000000   \n",
       "Doctor                      8412.0      0.039230      0.194152     0.000000   \n",
       "High School or Below        8412.0      0.287090      0.452431     0.000000   \n",
       "Master                      8412.0      0.081907      0.274239     0.000000   \n",
       "Agent                       8412.0      0.382905      0.486124     0.000000   \n",
       "Branch                      8412.0      0.277580      0.447831     0.000000   \n",
       "Call Center                 8412.0      0.194841      0.396102     0.000000   \n",
       "Web                         8412.0      0.144674      0.351793     0.000000   \n",
       "Arizona                     8412.0      0.186876      0.389835     0.000000   \n",
       "California                  8412.0      0.347242      0.476122     0.000000   \n",
       "Nevada                      8412.0      0.094389      0.292386     0.000000   \n",
       "Oregon                      8412.0      0.284475      0.451191     0.000000   \n",
       "Washington                  8412.0      0.087019      0.281879     0.000000   \n",
       "\n",
       "                                     25%           50%           75%  \\\n",
       "CLV                          4242.428750   5930.016709   8901.943166   \n",
       "Response                        0.000000      0.000000      0.000000   \n",
       "Coverage                        0.000000      0.000000      1.000000   \n",
       "Gender                          0.000000      0.000000      1.000000   \n",
       "Income                      12611.750000  35138.000000  62811.250000   \n",
       "MonthlyPremiumAuto             68.000000     83.000000    109.000000   \n",
       "MonthsSinceLastClaim            6.000000     13.000000     23.000000   \n",
       "MonthsSincePolicyInception     28.000000     50.000000     73.000000   \n",
       "NumberOfOpenComplaints          0.000000      0.000000      0.000000   \n",
       "NumberofPolicies                1.000000      2.000000      3.000000   \n",
       "PolicyType                      0.000000      0.000000      1.000000   \n",
       "PolicySubType                   1.000000      1.000000      2.000000   \n",
       "RenewOfferType                  1.000000      2.000000      3.000000   \n",
       "TotalClaimAmount              263.929018    375.602228    509.203874   \n",
       "VehicleClass                    0.000000      0.000000      2.000000   \n",
       "Disabled                        0.000000      0.000000      0.000000   \n",
       "Employed                        0.000000      1.000000      1.000000   \n",
       "Medical Leave                   0.000000      0.000000      0.000000   \n",
       "Retired                         0.000000      0.000000      0.000000   \n",
       "Unemployed                      0.000000      0.000000      0.000000   \n",
       "Divorced                        0.000000      0.000000      0.000000   \n",
       "Married                         0.000000      1.000000      1.000000   \n",
       "Single                          0.000000      0.000000      1.000000   \n",
       "Rural                           0.000000      0.000000      0.000000   \n",
       "Suburban                        0.000000      1.000000      1.000000   \n",
       "Urban                           0.000000      0.000000      0.000000   \n",
       "Bachelor                        0.000000      0.000000      1.000000   \n",
       "College                         0.000000      0.000000      1.000000   \n",
       "Doctor                          0.000000      0.000000      0.000000   \n",
       "High School or Below            0.000000      0.000000      1.000000   \n",
       "Master                          0.000000      0.000000      0.000000   \n",
       "Agent                           0.000000      0.000000      1.000000   \n",
       "Branch                          0.000000      0.000000      1.000000   \n",
       "Call Center                     0.000000      0.000000      0.000000   \n",
       "Web                             0.000000      0.000000      0.000000   \n",
       "Arizona                         0.000000      0.000000      0.000000   \n",
       "California                      0.000000      0.000000      1.000000   \n",
       "Nevada                          0.000000      0.000000      0.000000   \n",
       "Oregon                          0.000000      0.000000      1.000000   \n",
       "Washington                      0.000000      0.000000      0.000000   \n",
       "\n",
       "                                     max  \n",
       "CLV                         83325.381190  \n",
       "Response                        1.000000  \n",
       "Coverage                        2.000000  \n",
       "Gender                          1.000000  \n",
       "Income                      99981.000000  \n",
       "MonthlyPremiumAuto            298.000000  \n",
       "MonthsSinceLastClaim           35.000000  \n",
       "MonthsSincePolicyInception     99.000000  \n",
       "NumberOfOpenComplaints          5.000000  \n",
       "NumberofPolicies                8.000000  \n",
       "PolicyType                      2.000000  \n",
       "PolicySubType                   2.000000  \n",
       "RenewOfferType                  3.000000  \n",
       "TotalClaimAmount              959.849922  \n",
       "VehicleClass                    5.000000  \n",
       "Disabled                        1.000000  \n",
       "Employed                        1.000000  \n",
       "Medical Leave                   1.000000  \n",
       "Retired                         1.000000  \n",
       "Unemployed                      1.000000  \n",
       "Divorced                        1.000000  \n",
       "Married                         1.000000  \n",
       "Single                          1.000000  \n",
       "Rural                           1.000000  \n",
       "Suburban                        1.000000  \n",
       "Urban                           1.000000  \n",
       "Bachelor                        1.000000  \n",
       "College                         1.000000  \n",
       "Doctor                          1.000000  \n",
       "High School or Below            1.000000  \n",
       "Master                          1.000000  \n",
       "Agent                           1.000000  \n",
       "Branch                          1.000000  \n",
       "Call Center                     1.000000  \n",
       "Web                             1.000000  \n",
       "Arizona                         1.000000  \n",
       "California                      1.000000  \n",
       "Nevada                          1.000000  \n",
       "Oregon                          1.000000  \n",
       "Washington                      1.000000  "
      ]
     },
     "execution_count": 12,
     "metadata": {},
     "output_type": "execute_result"
    }
   ],
   "source": [
    "df.describe().transpose()"
   ]
  },
  {
   "cell_type": "markdown",
   "metadata": {
    "colab_type": "text",
    "id": "8HHM0rP4y5mp"
   },
   "source": [
    "Checking for Skewness and Kurtosis"
   ]
  },
  {
   "cell_type": "code",
   "execution_count": 13,
   "metadata": {
    "colab": {
     "base_uri": "https://localhost:8080/",
     "height": 714
    },
    "colab_type": "code",
    "id": "-qt1IfCcyzul",
    "outputId": "5c1bcde9-083f-46cc-97a0-f235eec7f91d"
   },
   "outputs": [
    {
     "data": {
      "text/plain": [
       "CLV                           3.131516\n",
       "Response                      2.027410\n",
       "Coverage                      1.036836\n",
       "Gender                        0.045669\n",
       "Income                        0.259808\n",
       "MonthlyPremiumAuto            2.138946\n",
       "MonthsSinceLastClaim          0.333313\n",
       "MonthsSincePolicyInception   -0.029014\n",
       "NumberOfOpenComplaints        2.772523\n",
       "NumberofPolicies              1.266963\n",
       "PolicyType                    1.646512\n",
       "PolicySubType                -0.181316\n",
       "RenewOfferType               -0.733741\n",
       "TotalClaimAmount              0.349880\n",
       "VehicleClass                  1.340102\n",
       "Disabled                      4.334900\n",
       "Employed                     -0.578776\n",
       "Medical Leave                 4.228310\n",
       "Retired                       5.444893\n",
       "Unemployed                    1.241532\n",
       "Divorced                      1.942327\n",
       "Married                      -0.344577\n",
       "Single                        1.074286\n",
       "Rural                         1.507158\n",
       "Suburban                     -0.504205\n",
       "Urban                         1.677901\n",
       "Bachelor                      0.865383\n",
       "College                       0.924158\n",
       "Doctor                        4.747608\n",
       "High School or Below          0.941407\n",
       "Master                        3.049841\n",
       "Agent                         0.481862\n",
       "Branch                        0.993558\n",
       "Call Center                   1.541180\n",
       "Web                           2.020564\n",
       "Arizona                       1.606826\n",
       "California                    0.641829\n",
       "Nevada                        2.775145\n",
       "Oregon                        0.955590\n",
       "Washington                    2.930901\n",
       "dtype: float64"
      ]
     },
     "execution_count": 13,
     "metadata": {},
     "output_type": "execute_result"
    }
   ],
   "source": [
    "df.skew()"
   ]
  },
  {
   "cell_type": "code",
   "execution_count": 32,
   "metadata": {
    "colab": {
     "base_uri": "https://localhost:8080/",
     "height": 714
    },
    "colab_type": "code",
    "id": "qhMZRT4Uy_82",
    "outputId": "beb90a11-e284-4fc3-e015-e2c7573d52aa"
   },
   "outputs": [
    {
     "data": {
      "text/plain": [
       "CLV                           15.062111\n",
       "Response                       2.110895\n",
       "Coverage                      -0.094295\n",
       "Gender                        -1.998390\n",
       "Income                        -1.082890\n",
       "MonthlyPremiumAuto             6.329220\n",
       "MonthsSinceLastClaim          -1.024296\n",
       "MonthsSincePolicyInception    -1.069103\n",
       "NumberOfOpenComplaints         7.646591\n",
       "NumberofPolicies               0.513690\n",
       "PolicyType                     1.780399\n",
       "PolicySubType                 -0.877255\n",
       "RenewOfferType                -0.601834\n",
       "TotalClaimAmount              -0.078564\n",
       "VehicleClass                   1.544670\n",
       "Disabled                      16.795353\n",
       "Employed                      -1.665415\n",
       "Medical Leave                 15.882384\n",
       "Retired                       27.653439\n",
       "Unemployed                    -0.458707\n",
       "Divorced                       1.773055\n",
       "Married                       -1.881714\n",
       "Single                        -0.846111\n",
       "Rural                          0.271591\n",
       "Suburban                      -1.746193\n",
       "Urban                          0.815547\n",
       "Bachelor                      -1.251410\n",
       "College                       -1.146205\n",
       "Doctor                        20.544663\n",
       "High School or Below          -1.114018\n",
       "Master                         7.303266\n",
       "Agent                         -1.768229\n",
       "Branch                        -1.013084\n",
       "Call Center                    0.375324\n",
       "Web                            2.083175\n",
       "Arizona                        0.582029\n",
       "California                    -1.588434\n",
       "Nevada                         5.702788\n",
       "Oregon                        -1.087106\n",
       "Washington                     6.591746\n",
       "dtype: float64"
      ]
     },
     "execution_count": 32,
     "metadata": {
      "tags": []
     },
     "output_type": "execute_result"
    }
   ],
   "source": [
    "df.kurtosis()"
   ]
  },
  {
   "cell_type": "markdown",
   "metadata": {
    "colab_type": "text",
    "id": "EuYyF3pmzxkw"
   },
   "source": [
    "6- Scaling the features"
   ]
  },
  {
   "cell_type": "code",
   "execution_count": 14,
   "metadata": {
    "colab": {
     "base_uri": "https://localhost:8080/",
     "height": 275
    },
    "colab_type": "code",
    "id": "BOP-DrZGzCDC",
    "outputId": "7aa64c40-a172-4676-b844-b08bb4589107"
   },
   "outputs": [
    {
     "data": {
      "text/html": [
       "<div>\n",
       "<style scoped>\n",
       "    .dataframe tbody tr th:only-of-type {\n",
       "        vertical-align: middle;\n",
       "    }\n",
       "\n",
       "    .dataframe tbody tr th {\n",
       "        vertical-align: top;\n",
       "    }\n",
       "\n",
       "    .dataframe thead th {\n",
       "        text-align: right;\n",
       "    }\n",
       "</style>\n",
       "<table border=\"1\" class=\"dataframe\">\n",
       "  <thead>\n",
       "    <tr style=\"text-align: right;\">\n",
       "      <th></th>\n",
       "      <th>CLV</th>\n",
       "      <th>Response</th>\n",
       "      <th>Coverage</th>\n",
       "      <th>Gender</th>\n",
       "      <th>Income</th>\n",
       "      <th>MonthlyPremiumAuto</th>\n",
       "      <th>MonthsSinceLastClaim</th>\n",
       "      <th>MonthsSincePolicyInception</th>\n",
       "      <th>NumberOfOpenComplaints</th>\n",
       "      <th>NumberofPolicies</th>\n",
       "      <th>...</th>\n",
       "      <th>Master</th>\n",
       "      <th>Agent</th>\n",
       "      <th>Branch</th>\n",
       "      <th>Call Center</th>\n",
       "      <th>Web</th>\n",
       "      <th>Arizona</th>\n",
       "      <th>California</th>\n",
       "      <th>Nevada</th>\n",
       "      <th>Oregon</th>\n",
       "      <th>Washington</th>\n",
       "    </tr>\n",
       "  </thead>\n",
       "  <tbody>\n",
       "    <tr>\n",
       "      <th>1</th>\n",
       "      <td>6979.535903</td>\n",
       "      <td>0</td>\n",
       "      <td>1</td>\n",
       "      <td>0</td>\n",
       "      <td>0.000000</td>\n",
       "      <td>0.139241</td>\n",
       "      <td>0.371429</td>\n",
       "      <td>0.424242</td>\n",
       "      <td>0</td>\n",
       "      <td>8.0</td>\n",
       "      <td>...</td>\n",
       "      <td>0</td>\n",
       "      <td>1</td>\n",
       "      <td>0</td>\n",
       "      <td>0</td>\n",
       "      <td>0</td>\n",
       "      <td>1</td>\n",
       "      <td>0</td>\n",
       "      <td>0</td>\n",
       "      <td>0</td>\n",
       "      <td>0</td>\n",
       "    </tr>\n",
       "    <tr>\n",
       "      <th>2</th>\n",
       "      <td>12887.431650</td>\n",
       "      <td>0</td>\n",
       "      <td>2</td>\n",
       "      <td>0</td>\n",
       "      <td>0.487763</td>\n",
       "      <td>0.198312</td>\n",
       "      <td>0.514286</td>\n",
       "      <td>0.383838</td>\n",
       "      <td>0</td>\n",
       "      <td>2.0</td>\n",
       "      <td>...</td>\n",
       "      <td>0</td>\n",
       "      <td>1</td>\n",
       "      <td>0</td>\n",
       "      <td>0</td>\n",
       "      <td>0</td>\n",
       "      <td>0</td>\n",
       "      <td>0</td>\n",
       "      <td>1</td>\n",
       "      <td>0</td>\n",
       "      <td>0</td>\n",
       "    </tr>\n",
       "    <tr>\n",
       "      <th>3</th>\n",
       "      <td>7645.861827</td>\n",
       "      <td>0</td>\n",
       "      <td>0</td>\n",
       "      <td>1</td>\n",
       "      <td>0.000000</td>\n",
       "      <td>0.189873</td>\n",
       "      <td>0.514286</td>\n",
       "      <td>0.656566</td>\n",
       "      <td>0</td>\n",
       "      <td>7.0</td>\n",
       "      <td>...</td>\n",
       "      <td>0</td>\n",
       "      <td>0</td>\n",
       "      <td>0</td>\n",
       "      <td>1</td>\n",
       "      <td>0</td>\n",
       "      <td>0</td>\n",
       "      <td>1</td>\n",
       "      <td>0</td>\n",
       "      <td>0</td>\n",
       "      <td>0</td>\n",
       "    </tr>\n",
       "    <tr>\n",
       "      <th>4</th>\n",
       "      <td>2813.692575</td>\n",
       "      <td>0</td>\n",
       "      <td>0</td>\n",
       "      <td>1</td>\n",
       "      <td>0.438443</td>\n",
       "      <td>0.050633</td>\n",
       "      <td>0.342857</td>\n",
       "      <td>0.444444</td>\n",
       "      <td>0</td>\n",
       "      <td>1.0</td>\n",
       "      <td>...</td>\n",
       "      <td>0</td>\n",
       "      <td>1</td>\n",
       "      <td>0</td>\n",
       "      <td>0</td>\n",
       "      <td>0</td>\n",
       "      <td>0</td>\n",
       "      <td>0</td>\n",
       "      <td>0</td>\n",
       "      <td>0</td>\n",
       "      <td>1</td>\n",
       "    </tr>\n",
       "    <tr>\n",
       "      <th>5</th>\n",
       "      <td>8256.297800</td>\n",
       "      <td>1</td>\n",
       "      <td>0</td>\n",
       "      <td>0</td>\n",
       "      <td>0.629140</td>\n",
       "      <td>0.033755</td>\n",
       "      <td>0.400000</td>\n",
       "      <td>0.949495</td>\n",
       "      <td>0</td>\n",
       "      <td>2.0</td>\n",
       "      <td>...</td>\n",
       "      <td>0</td>\n",
       "      <td>0</td>\n",
       "      <td>0</td>\n",
       "      <td>0</td>\n",
       "      <td>1</td>\n",
       "      <td>0</td>\n",
       "      <td>0</td>\n",
       "      <td>0</td>\n",
       "      <td>1</td>\n",
       "      <td>0</td>\n",
       "    </tr>\n",
       "  </tbody>\n",
       "</table>\n",
       "<p>5 rows × 40 columns</p>\n",
       "</div>"
      ],
      "text/plain": [
       "            CLV  Response  Coverage  Gender    Income  MonthlyPremiumAuto  \\\n",
       "1   6979.535903         0         1       0  0.000000            0.139241   \n",
       "2  12887.431650         0         2       0  0.487763            0.198312   \n",
       "3   7645.861827         0         0       1  0.000000            0.189873   \n",
       "4   2813.692575         0         0       1  0.438443            0.050633   \n",
       "5   8256.297800         1         0       0  0.629140            0.033755   \n",
       "\n",
       "   MonthsSinceLastClaim  MonthsSincePolicyInception  NumberOfOpenComplaints  \\\n",
       "1              0.371429                    0.424242                       0   \n",
       "2              0.514286                    0.383838                       0   \n",
       "3              0.514286                    0.656566                       0   \n",
       "4              0.342857                    0.444444                       0   \n",
       "5              0.400000                    0.949495                       0   \n",
       "\n",
       "   NumberofPolicies  ...  Master  Agent  Branch  Call Center  Web  Arizona  \\\n",
       "1               8.0  ...       0      1       0            0    0        1   \n",
       "2               2.0  ...       0      1       0            0    0        0   \n",
       "3               7.0  ...       0      0       0            1    0        0   \n",
       "4               1.0  ...       0      1       0            0    0        0   \n",
       "5               2.0  ...       0      0       0            0    1        0   \n",
       "\n",
       "   California  Nevada  Oregon  Washington  \n",
       "1           0       0       0           0  \n",
       "2           0       1       0           0  \n",
       "3           1       0       0           0  \n",
       "4           0       0       0           1  \n",
       "5           0       0       1           0  \n",
       "\n",
       "[5 rows x 40 columns]"
      ]
     },
     "execution_count": 14,
     "metadata": {},
     "output_type": "execute_result"
    }
   ],
   "source": [
    "#Now we will do Feature Scaling (using standard scalar)\n",
    "from sklearn import preprocessing\n",
    "min_max_scaler = preprocessing.MinMaxScaler()\n",
    "df.iloc[:, 4:8 ] = min_max_scaler.fit_transform(df.iloc[:, 4:8])\n",
    "df.iloc[:, 13:14 ] = min_max_scaler.fit_transform(df.iloc[:, 13:14])\n",
    "df.head()"
   ]
  },
  {
   "cell_type": "markdown",
   "metadata": {
    "colab_type": "text",
    "id": "l-oqa6bKu6hT"
   },
   "source": [
    "**Data Visualisation**\n",
    "\n",
    "Now we will interpret the data using various plots  "
   ]
  },
  {
   "cell_type": "code",
   "execution_count": 15,
   "metadata": {
    "colab": {
     "base_uri": "https://localhost:8080/",
     "height": 475
    },
    "colab_type": "code",
    "id": "VjitFVXD03IR",
    "outputId": "187fc7c0-71f6-4b37-b090-c198cba97b4e"
   },
   "outputs": [
    {
     "data": {
      "text/plain": [
       "<seaborn.axisgrid.JointGrid at 0x1ccdb55cd08>"
      ]
     },
     "execution_count": 15,
     "metadata": {},
     "output_type": "execute_result"
    },
    {
     "data": {
      "text/plain": [
       "<Figure size 864x576 with 0 Axes>"
      ]
     },
     "metadata": {},
     "output_type": "display_data"
    },
    {
     "data": {
      "image/png": "[encoded data removed]",
      "text/plain": [
       "<Figure size 432x432 with 3 Axes>"
      ]
     },
     "metadata": {
      "needs_background": "light"
     },
     "output_type": "display_data"
    }
   ],
   "source": [
    "# Draw a scatterplot, then add a joint density estimate\n",
    "plt.figure(figsize=(12,8))\n",
    "ax = sns.jointplot(x=\"CLV\", y=\"MonthlyPremiumAuto\", data=df[['CLV','MonthlyPremiumAuto']],color='orangered')\n",
    "ax.plot_joint(sns.kdeplot, zorder=1, n_levels=10)"
   ]
  },
  {
   "cell_type": "markdown",
   "metadata": {
    "colab_type": "text",
    "id": "yGTQXq35xvH-"
   },
   "source": [
    "From the density plot we infer data is heteroscedastic"
   ]
  },
  {
   "cell_type": "code",
   "execution_count": 16,
   "metadata": {
    "colab": {
     "base_uri": "https://localhost:8080/",
     "height": 699
    },
    "colab_type": "code",
    "id": "DBrbuuRVDGk3",
    "outputId": "250eefb5-c249-4a79-90d5-8d5cced7f561"
   },
   "outputs": [
    {
     "data": {
      "text/plain": [
       "<matplotlib.axes._subplots.AxesSubplot at 0x1ccdb2bcd88>"
      ]
     },
     "execution_count": 16,
     "metadata": {},
     "output_type": "execute_result"
    },
    {
     "data": {
      "image/png": "[encoded data removed]",
      "text/plain": [
       "<Figure size 864x648 with 2 Axes>"
      ]
     },
     "metadata": {
      "needs_background": "light"
     },
     "output_type": "display_data"
    }
   ],
   "source": [
    "#Finding CORRELATION amongst Variables\n",
    "mask = np.zeros_like(dataset.corr())\n",
    "mask[np.triu_indices_from(mask)] = True\n",
    "dataset.corr(method = 'pearson')\n",
    "plt.figure(figsize=(12,9))\n",
    "plt.yticks(rotation=0)\n",
    "plt.xticks(rotation=90)\n",
    "plt.title('Correlation Analysis')\n",
    "sns.heatmap(dataset.corr(), cmap='Blues', mask = mask, linewidths=2, annot=True)"
   ]
  },
  {
   "cell_type": "markdown",
   "metadata": {
    "colab_type": "text",
    "id": "W-njBTXVxhZE"
   },
   "source": [
    "No Strong correlation is found so autocorrelation and multicollinearty doesn't exists in dataset"
   ]
  },
  {
   "cell_type": "code",
   "execution_count": 17,
   "metadata": {
    "colab": {
     "base_uri": "https://localhost:8080/",
     "height": 530
    },
    "colab_type": "code",
    "id": "hTvnJMzoxMVA",
    "outputId": "b6642728-9a6c-4868-b463-2b76d621ce8b"
   },
   "outputs": [
    {
     "data": {
      "text/plain": [
       "Text(0.5, 1.0, 'CLV vs Total Claim')"
      ]
     },
     "execution_count": 17,
     "metadata": {},
     "output_type": "execute_result"
    },
    {
     "data": {
      "image/png": "[encoded data removed]",
      "text/plain": [
       "<Figure size 864x576 with 1 Axes>"
      ]
     },
     "metadata": {
      "needs_background": "light"
     },
     "output_type": "display_data"
    }
   ],
   "source": [
    "#Analyzing the relationship between CLV and Total Amount Claimed\n",
    "plt.figure(figsize=(12,8))\n",
    "plt.scatter(dataset['TotalClaimAmount'], dataset['CLV'], color='red')\n",
    "plt.xlabel('Total Claim Amount')\n",
    "plt.ylabel('Customer Lifetime Value')\n",
    "plt.title('CLV vs Total Claim')"
   ]
  },
  {
   "cell_type": "markdown",
   "metadata": {
    "colab_type": "text",
    "id": "wH_9DjbYyhSv"
   },
   "source": [
    "Quite clearly, we can interprete that people who frequently make claims (and therefore have HIGHER TOTAL CLAIM AMOUNT)\n",
    "have LOWER CLV values , ie. they are NON-PROFITABLE customers"
   ]
  },
  {
   "cell_type": "code",
   "execution_count": 18,
   "metadata": {
    "colab": {
     "base_uri": "https://localhost:8080/",
     "height": 295
    },
    "colab_type": "code",
    "id": "gs5zQDpYyIZo",
    "outputId": "4df6a27c-a7ff-4592-b543-92fc7491589b"
   },
   "outputs": [
    {
     "data": {
      "image/png": "[encoded data removed]",
      "text/plain": [
       "<Figure size 432x288 with 1 Axes>"
      ]
     },
     "metadata": {
      "needs_background": "light"
     },
     "output_type": "display_data"
    }
   ],
   "source": [
    "#Scatter plot analyzing CLV and Number of Open Complaints \n",
    "\n",
    "plt.scatter(dataset['CLV'], dataset['NumberOfOpenComplaints'], s=200, color='red', cmap=\"Greens\", alpha=0.4, linewidth=2)\n",
    "plt.xlabel(\"Customer Lifetime Value\")\n",
    "plt.ylabel(\"Number Of Open Complaints\")\n",
    "plt.title(\"Relationship between CLV and Open Complaints\")\n",
    "plt.rcParams[\"figure.figsize\"] = (6, 4)"
   ]
  },
  {
   "cell_type": "markdown",
   "metadata": {
    "colab_type": "text",
    "id": "FmVEEDTLy4XP"
   },
   "source": [
    "Quite clearly, number of open complaints negatively correlate with the customer lifetime value. \n",
    "Customer with MORE NUMBER OF COMPLAINTS is definitely DISSATISFIED and hence likely to be LESS BENEFICIAL for company profits."
   ]
  },
  {
   "cell_type": "code",
   "execution_count": 19,
   "metadata": {
    "colab": {
     "base_uri": "https://localhost:8080/",
     "height": 879
    },
    "colab_type": "code",
    "id": "z7R22VjkytJo",
    "outputId": "8d4f7e24-e948-4383-f82a-37d120776965"
   },
   "outputs": [
    {
     "data": {
      "image/png": "[encoded data removed]",
      "text/plain": [
       "<Figure size 1080x1080 with 9 Axes>"
      ]
     },
     "metadata": {
      "needs_background": "light"
     },
     "output_type": "display_data"
    }
   ],
   "source": [
    "column_index = ['CLV','Income','MonthlyPremiumAuto','MonthsSinceLastClaim','MonthsSincePolicyInception','NumberOfOpenComplaints','NumberofPolicies','TotalClaimAmount']\n",
    "histogram1 = dataset[column_index].hist(bins=20 , figsize = (15,15))"
   ]
  },
  {
   "cell_type": "code",
   "execution_count": 20,
   "metadata": {
    "colab": {
     "base_uri": "https://localhost:8080/",
     "height": 204
    },
    "colab_type": "code",
    "id": "5hsN_BSSzHR0",
    "outputId": "5910fb8e-0a55-4e60-88d9-8dbed19c4566"
   },
   "outputs": [
    {
     "data": {
      "text/html": [
       "<div>\n",
       "<style scoped>\n",
       "    .dataframe tbody tr th:only-of-type {\n",
       "        vertical-align: middle;\n",
       "    }\n",
       "\n",
       "    .dataframe tbody tr th {\n",
       "        vertical-align: top;\n",
       "    }\n",
       "\n",
       "    .dataframe thead th {\n",
       "        text-align: right;\n",
       "    }\n",
       "</style>\n",
       "<table border=\"1\" class=\"dataframe\">\n",
       "  <thead>\n",
       "    <tr style=\"text-align: right;\">\n",
       "      <th></th>\n",
       "      <th>Response</th>\n",
       "    </tr>\n",
       "  </thead>\n",
       "  <tbody>\n",
       "    <tr>\n",
       "      <th>Arizona</th>\n",
       "      <td>1703</td>\n",
       "    </tr>\n",
       "    <tr>\n",
       "      <th>California</th>\n",
       "      <td>3150</td>\n",
       "    </tr>\n",
       "    <tr>\n",
       "      <th>Nevada</th>\n",
       "      <td>882</td>\n",
       "    </tr>\n",
       "    <tr>\n",
       "      <th>Oregon</th>\n",
       "      <td>2601</td>\n",
       "    </tr>\n",
       "    <tr>\n",
       "      <th>Washington</th>\n",
       "      <td>798</td>\n",
       "    </tr>\n",
       "  </tbody>\n",
       "</table>\n",
       "</div>"
      ],
      "text/plain": [
       "            Response\n",
       "Arizona         1703\n",
       "California      3150\n",
       "Nevada           882\n",
       "Oregon          2601\n",
       "Washington       798"
      ]
     },
     "execution_count": 20,
     "metadata": {},
     "output_type": "execute_result"
    }
   ],
   "source": [
    "# Generate an aggregated DataFrame to represent the customer population by state\n",
    "Customer_count_State = dataset[['State','Response']].groupby('State').count()\n",
    "\n",
    "# Recode the index\n",
    "Customer_count_State.index = ['Arizona','California','Nevada','Oregon','Washington']\n",
    "\n",
    "# Show the aggregated DataFrame\n",
    "Customer_count_State"
   ]
  },
  {
   "cell_type": "code",
   "execution_count": 21,
   "metadata": {
    "colab": {
     "base_uri": "https://localhost:8080/",
     "height": 377
    },
    "colab_type": "code",
    "id": "Es_4UpekzUM-",
    "outputId": "d03316ae-cb0e-49c8-c38b-5f226be7c89e"
   },
   "outputs": [
    {
     "data": {
      "image/png": "[encoded data removed]",
      "text/plain": [
       "<Figure size 432x432 with 1 Axes>"
      ]
     },
     "metadata": {},
     "output_type": "display_data"
    }
   ],
   "source": [
    "# Pie plot displaying the customer distribution across states\n",
    "Customer_count_State['Response'].plot(kind='pie',autopct='%.2f%%',fontsize=15,figsize=(6,6))\n",
    "plt.title('Proportion of Customers by State')\n",
    "plt.show()"
   ]
  },
  {
   "cell_type": "code",
   "execution_count": 22,
   "metadata": {
    "colab": {
     "base_uri": "https://localhost:8080/",
     "height": 312
    },
    "colab_type": "code",
    "id": "TAmuXgWezZSa",
    "outputId": "7d407150-215c-4fd3-ae2a-2a85898aae26"
   },
   "outputs": [
    {
     "data": {
      "text/plain": [
       "Text(0.5, 1.0, 'Impact of Sales Channel on CLV')"
      ]
     },
     "execution_count": 22,
     "metadata": {},
     "output_type": "execute_result"
    },
    {
     "data": {
      "image/png": "[encoded data removed]",
      "text/plain": [
       "<Figure size 432x288 with 1 Axes>"
      ]
     },
     "metadata": {
      "needs_background": "light"
     },
     "output_type": "display_data"
    }
   ],
   "source": [
    "# Analyzing the Relationship between Sales Channel and Average CLV \n",
    "ax = sns.barplot(x=\"CLV\", y=\"SalesChannel\", data=dataset)\n",
    "plt. title('Impact of Sales Channel on CLV')"
   ]
  },
  {
   "cell_type": "markdown",
   "metadata": {
    "colab_type": "text",
    "id": "Q_ZLASVXzomH"
   },
   "source": [
    "Peope using CALL CENTER and BRANCH for automobile insurance policies have GREATER CLV compared to those who enrolled for insurance policies through other channels"
   ]
  },
  {
   "cell_type": "code",
   "execution_count": 23,
   "metadata": {
    "colab": {
     "base_uri": "https://localhost:8080/",
     "height": 448
    },
    "colab_type": "code",
    "id": "pQ-8P1ayzcKi",
    "outputId": "8bbd055a-2824-49aa-8755-a5801c24f74e"
   },
   "outputs": [
    {
     "data": {
      "image/png": "[encoded data removed]",
      "text/plain": [
       "<Figure size 1351.38x360 with 5 Axes>"
      ]
     },
     "metadata": {
      "needs_background": "light"
     },
     "output_type": "display_data"
    },
    {
     "data": {
      "text/plain": [
       "<Figure size 1440x1152 with 0 Axes>"
      ]
     },
     "metadata": {},
     "output_type": "display_data"
    }
   ],
   "source": [
    "# Further analysis of Sales Channel vs Average CLV for states based on location code\n",
    "g = sns.factorplot(x=\"LocationCode\", y=\"CLV\",\n",
    "                   hue=\"SalesChannel\", col=\"State\",\n",
    "                   data=dataset, kind=\"bar\", palette=\"tab10\",\n",
    "                   size=5, aspect=.7);\n",
    "g.set_xticklabels(rotation=90)\n",
    "g.set_xlabels(\"Location Code\")\n",
    "g.set_ylabels(\"Customer Lifetime Value\")\n",
    "plt.subplots_adjust(top=0.8)\n",
    "g.fig.suptitle('Drill-Down analysis for State, Location Code, Sales Channel, and CLV')\n",
    "plt.figure(figsize=(20,16))\n",
    "plt.show()"
   ]
  },
  {
   "cell_type": "code",
   "execution_count": 24,
   "metadata": {
    "colab": {
     "base_uri": "https://localhost:8080/",
     "height": 312
    },
    "colab_type": "code",
    "id": "mjHgecfHzwA_",
    "outputId": "e710a703-b5a9-4c4c-8bca-aad773b229b7"
   },
   "outputs": [
    {
     "data": {
      "text/plain": [
       "Text(0.5, 1.0, 'Coverage vs Monthly Premium')"
      ]
     },
     "execution_count": 24,
     "metadata": {},
     "output_type": "execute_result"
    },
    {
     "data": {
      "image/png": "[encoded data removed]",
      "text/plain": [
       "<Figure size 432x288 with 1 Axes>"
      ]
     },
     "metadata": {
      "needs_background": "light"
     },
     "output_type": "display_data"
    }
   ],
   "source": [
    "# Coverage type vs Average CLV\n",
    "ax = sns.barplot(x=\"Coverage\", y=\"MonthlyPremiumAuto\", data=dataset)\n",
    "plt. title('Coverage vs Monthly Premium')"
   ]
  },
  {
   "cell_type": "code",
   "execution_count": 25,
   "metadata": {
    "colab": {
     "base_uri": "https://localhost:8080/",
     "height": 312
    },
    "colab_type": "code",
    "id": "wtq2YmDiz6kZ",
    "outputId": "7547e009-dd7d-4585-862b-aa9e1ba2b15b"
   },
   "outputs": [
    {
     "data": {
      "text/plain": [
       "Text(0.5, 1.0, 'Coverage vs CLV')"
      ]
     },
     "execution_count": 25,
     "metadata": {},
     "output_type": "execute_result"
    },
    {
     "data": {
      "image/png": "[encoded data removed]",
      "text/plain": [
       "<Figure size 432x288 with 1 Axes>"
      ]
     },
     "metadata": {
      "needs_background": "light"
     },
     "output_type": "display_data"
    }
   ],
   "source": [
    "# Coverage type vs Average CLV\n",
    "ax = sns.barplot(x=\"Coverage\", y=\"CLV\", data=dataset)\n",
    "plt. title('Coverage vs CLV')"
   ]
  },
  {
   "cell_type": "code",
   "execution_count": 26,
   "metadata": {
    "colab": {
     "base_uri": "https://localhost:8080/",
     "height": 370
    },
    "colab_type": "code",
    "id": "zGUZiGH1z_yS",
    "outputId": "72adb9ae-768f-4bc0-898f-82525f3c065d"
   },
   "outputs": [
    {
     "data": {
      "image/png": "[encoded data removed]",
      "text/plain": [
       "<Figure size 1440x360 with 1 Axes>"
      ]
     },
     "metadata": {
      "needs_background": "light"
     },
     "output_type": "display_data"
    }
   ],
   "source": [
    "grouped = dataset.groupby('Gender')\n",
    "fig, ax = plt.subplots(figsize=(20,5))\n",
    "for name, group in grouped:\n",
    "    ax.scatter(group.NumberOfOpenComplaints, group.MonthlyPremiumAuto, alpha = 0.2, s = 250)\n",
    "ax.legend(['Female', 'Male'])\n",
    "plt.xlabel('Customer Life Time Value')\n",
    "plt.ylabel('Monthly Premium Auto')\n",
    "plt.title('Customer Satifaction Rate based on Open Complaints')\n",
    "plt.show()"
   ]
  },
  {
   "cell_type": "markdown",
   "metadata": {
    "colab_type": "text",
    "id": "0SwhBygC0PNR"
   },
   "source": [
    "The range of CLV payment OF MALES is a bit HIGHER\n",
    "we can see that the nuber of complaints decrese for male customers from 0 to 5\n",
    "Instead, an increase can be observed for female customers\n",
    "WOMEN COMPLAIN MORE THAN MEN\n",
    "Previously, we had observed that number of COMPLAINTS is NEGATIVELY CORRELATED with CLV"
   ]
  },
  {
   "cell_type": "code",
   "execution_count": 27,
   "metadata": {
    "colab": {
     "base_uri": "https://localhost:8080/",
     "height": 283
    },
    "colab_type": "code",
    "id": "0JfJDtL-0ZEJ",
    "outputId": "53be3b3d-a81d-4ef5-fdf9-2d3146ce0be1"
   },
   "outputs": [
    {
     "data": {
      "image/png": "[encoded data removed]",
      "text/plain": [
       "<Figure size 432x288 with 1 Axes>"
      ]
     },
     "metadata": {
      "needs_background": "light"
     },
     "output_type": "display_data"
    }
   ],
   "source": [
    "plt.scatter(dataset['VehicleClass'],dataset['CLV'],color='skyblue')\n",
    "plt.plot(dataset['VehicleClass'],dataset['CLV'],color='yellow')\n",
    "plt.xlabel('Vehicle Class')\n",
    "plt.ylabel('Customer Lifetime Value')\n",
    "plt.show()"
   ]
  },
  {
   "cell_type": "code",
   "execution_count": 28,
   "metadata": {
    "colab": {
     "base_uri": "https://localhost:8080/",
     "height": 283
    },
    "colab_type": "code",
    "id": "_8ITSGkB2Snn",
    "outputId": "200b2a54-dd49-4243-c798-6916a1a50c1e"
   },
   "outputs": [
    {
     "data": {
      "image/png": "[encoded data removed]",
      "text/plain": [
       "<Figure size 432x288 with 1 Axes>"
      ]
     },
     "metadata": {
      "needs_background": "light"
     },
     "output_type": "display_data"
    }
   ],
   "source": [
    "plt.scatter(dataset['TotalClaimAmount'],dataset['CLV'],color='skyblue')\n",
    "plt.plot(dataset['TotalClaimAmount'],dataset['CLV'],color='yellow')\n",
    "plt.xlabel('TotalClaimAmount')\n",
    "plt.ylabel('Customer Lifetime Value')\n",
    "plt.show()"
   ]
  },
  {
   "cell_type": "code",
   "execution_count": 29,
   "metadata": {
    "colab": {
     "base_uri": "https://localhost:8080/",
     "height": 283
    },
    "colab_type": "code",
    "id": "mUItuiVH2-MB",
    "outputId": "f4dbcb42-a58e-4b95-a227-cd95d20a60ec"
   },
   "outputs": [
    {
     "data": {
      "image/png": "[encoded data removed]",
      "text/plain": [
       "<Figure size 432x288 with 1 Axes>"
      ]
     },
     "metadata": {
      "needs_background": "light"
     },
     "output_type": "display_data"
    }
   ],
   "source": [
    "plt.scatter(dataset['NumberofPolicies'],dataset['CLV'],color='skyblue')\n",
    "plt.plot(dataset['NumberofPolicies'],dataset['CLV'],color='lightgreen')\n",
    "plt.xlabel('NumberofPolicies')\n",
    "plt.ylabel('Customer Lifetime Value')\n",
    "plt.show()"
   ]
  },
  {
   "cell_type": "markdown",
   "metadata": {
    "colab_type": "text",
    "id": "9bJAIysZ6bI0"
   },
   "source": [
    "**Feature Engineering and Feature Selection**\n",
    "\n",
    "Feature engineering is an essential part of building any intelligent system. Feature engineering is the process of transforming data into features to act as inputs for machine learning models such that good quality features help in improving the overall model performance."
   ]
  },
  {
   "cell_type": "code",
   "execution_count": 30,
   "metadata": {
    "colab": {},
    "colab_type": "code",
    "id": "sxiFaIdm4U4d"
   },
   "outputs": [],
   "source": [
    "from sklearn.model_selection import KFold\n",
    "from sklearn.model_selection import cross_val_score\n",
    "from sklearn.model_selection import cross_validate\n",
    "from sklearn.tree import DecisionTreeRegressor\n",
    "import xgboost as xgb\n",
    "from sklearn.ensemble import RandomForestRegressor\n",
    "from sklearn.model_selection import StratifiedKFold\n",
    "from xgboost.sklearn import XGBRegressor\n",
    "from sklearn.model_selection import GridSearchCV\n",
    "from sklearn.linear_model import LinearRegression\n",
    "from sklearn.model_selection import train_test_split\n",
    "from sklearn.feature_selection import SelectKBest\n",
    "from sklearn.feature_selection import chi2\n",
    "from sklearn.feature_selection import SelectFromModel\n",
    "from sklearn import metrics"
   ]
  },
  {
   "cell_type": "code",
   "execution_count": 31,
   "metadata": {
    "colab": {
     "base_uri": "https://localhost:8080/",
     "height": 187
    },
    "colab_type": "code",
    "id": "mKtr4yoP7WJw",
    "outputId": "aeddc9c3-13bb-45cc-dfc1-56630d3e72b7"
   },
   "outputs": [
    {
     "data": {
      "text/plain": [
       "Index(['CLV', 'Response', 'Coverage', 'Gender', 'Income', 'MonthlyPremiumAuto',\n",
       "       'MonthsSinceLastClaim', 'MonthsSincePolicyInception',\n",
       "       'NumberOfOpenComplaints', 'NumberofPolicies', 'PolicyType',\n",
       "       'PolicySubType', 'RenewOfferType', 'TotalClaimAmount', 'VehicleClass',\n",
       "       'Disabled', 'Employed', 'Medical Leave', 'Retired', 'Unemployed',\n",
       "       'Divorced', 'Married', 'Single', 'Rural', 'Suburban', 'Urban',\n",
       "       'Bachelor', 'College', 'Doctor', 'High School or Below', 'Master',\n",
       "       'Agent', 'Branch', 'Call Center', 'Web', 'Arizona', 'California',\n",
       "       'Nevada', 'Oregon', 'Washington'],\n",
       "      dtype='object')"
      ]
     },
     "execution_count": 31,
     "metadata": {},
     "output_type": "execute_result"
    }
   ],
   "source": [
    "df.columns"
   ]
  },
  {
   "cell_type": "code",
   "execution_count": 32,
   "metadata": {
    "colab": {},
    "colab_type": "code",
    "id": "BEshZjbw6h0c"
   },
   "outputs": [],
   "source": [
    "df['Profit'] = df['MonthlyPremiumAuto']*df['MonthsSincePolicyInception'] - df['TotalClaimAmount']\n",
    "df['Income_monthly_auto']=df['Income']*df['MonthlyPremiumAuto']\n",
    "df['monthly_with_Number_of_policies']=df['MonthlyPremiumAuto']*df['NumberofPolicies']\n"
   ]
  },
  {
   "cell_type": "markdown",
   "metadata": {
    "colab_type": "text",
    "id": "T_FgDJkfBWMb"
   },
   "source": [
    "**Splitting the dataset**"
   ]
  },
  {
   "cell_type": "code",
   "execution_count": 33,
   "metadata": {
    "colab": {},
    "colab_type": "code",
    "id": "f6xfx1MDBLPO"
   },
   "outputs": [],
   "source": [
    "X=df.drop(\"CLV\",axis=1)\n",
    "Y=df[\"CLV\"]"
   ]
  },
  {
   "cell_type": "code",
   "execution_count": 34,
   "metadata": {
    "colab": {},
    "colab_type": "code",
    "id": "zIxrmr64BcpK"
   },
   "outputs": [],
   "source": [
    "X_train,X_test,Y_train,Y_test=train_test_split(X,Y,test_size=0.2)"
   ]
  },
  {
   "cell_type": "code",
   "execution_count": 35,
   "metadata": {
    "colab": {},
    "colab_type": "code",
    "id": "QGhFV_B8CE9y"
   },
   "outputs": [],
   "source": [
    "def mean_absolute_percentage_error(y_test, y_pred): \n",
    "    y_test, y_pred = np.array(y_test), np.array(y_pred)\n",
    "    return np.mean(np.abs((y_test - y_pred) / y_test)) * 100"
   ]
  },
  {
   "cell_type": "code",
   "execution_count": 36,
   "metadata": {
    "colab": {
     "base_uri": "https://localhost:8080/",
     "height": 68
    },
    "colab_type": "code",
    "id": "px2OtjIMBfSq",
    "outputId": "85845d75-3049-4e70-ab33-64e3a1294eef"
   },
   "outputs": [
    {
     "name": "stdout",
     "output_type": "stream",
     "text": [
      "Adjusted r squared:  0.6535251908432076\n",
      "R squared: 0.6453142581266604\n",
      "MAPE: 11.26992388980041\n"
     ]
    }
   ],
   "source": [
    "alg=RandomForestRegressor()\n",
    "alg.fit(X_train,Y_train)\n",
    "y_pred=alg.predict(X_test)\n",
    "r2=metrics.r2_score(Y_test, y_pred)\n",
    "n=Y_test.count()\n",
    "p=len(df.columns)-1\n",
    "adj_r2=(1-(1-r2*r2*((n-1)/(n-p-1))))**(.5)\n",
    "print(\"Adjusted r squared: \",adj_r2)\n",
    "print(\"R squared:\",metrics.r2_score(Y_test,y_pred))\n",
    "print(\"MAPE:\",mean_absolute_percentage_error(Y_test,y_pred))"
   ]
  },
  {
   "cell_type": "code",
   "execution_count": 38,
   "metadata": {
    "colab": {
     "base_uri": "https://localhost:8080/",
     "height": 1000
    },
    "colab_type": "code",
    "id": "Dinv7EA2CRys",
    "outputId": "738078b6-07b4-4e81-c020-101566591023"
   },
   "outputs": [
    {
     "name": "stdout",
     "output_type": "stream",
     "text": [
      "Adjusted r squared:  0.25737607754815517\n",
      "R squared: 0.25414238788292576\n",
      "MAPE: 24.23516906660269\n"
     ]
    }
   ],
   "source": [
    "xg_reg = xgb.XGBRegressor(colsample_bytree = 0.3, learning_rate = 0.1,\n",
    "                max_depth = 5, alpha = 10, n_estimators = 10)\n",
    "xg_reg.fit(X_train,Y_train)\n",
    "\n",
    "\n",
    "y_pred_1 = xg_reg.predict(X_test)\n",
    "r2=metrics.r2_score(Y_test, y_pred_1)\n",
    "n=Y_test.count()\n",
    "p=len(df.columns)-1\n",
    "adj_r2=(1-(1-r2*r2*((n-1)/(n-p-1))))**(.5)\n",
    "print(\"Adjusted r squared: \",adj_r2)\n",
    "print(\"R squared:\",metrics.r2_score(Y_test,y_pred_1))\n",
    "print(\"MAPE:\",mean_absolute_percentage_error(Y_test,y_pred_1)) "
   ]
  },
  {
   "cell_type": "code",
   "execution_count": 0,
   "metadata": {
    "colab": {},
    "colab_type": "code",
    "id": "Ghkv3EfrDe2e"
   },
   "outputs": [],
   "source": []
  }
 ],
 "metadata": {
  "accelerator": "GPU",
  "colab": {
   "name": "Ten_Commandmets.ipynb",
   "provenance": [],
   "version": "0.3.2"
  },
  "kernelspec": {
   "display_name": "Python 3",
   "language": "python",
   "name": "python3"
  },
  "language_info": {
   "codemirror_mode": {
    "name": "ipython",
    "version": 3
   },
   "file_extension": ".py",
   "mimetype": "text/x-python",
   "name": "python",
   "nbconvert_exporter": "python",
   "pygments_lexer": "ipython3",
   "version": "3.7.6"
  }
 },
 "nbformat": 4,
 "nbformat_minor": 1
}
